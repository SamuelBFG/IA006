{
 "cells": [
  {
   "cell_type": "code",
   "execution_count": 1,
   "metadata": {
    "scrolled": true
   },
   "outputs": [
    {
     "data": {
      "text/html": [
       "<div>\n",
       "<style scoped>\n",
       "    .dataframe tbody tr th:only-of-type {\n",
       "        vertical-align: middle;\n",
       "    }\n",
       "\n",
       "    .dataframe tbody tr th {\n",
       "        vertical-align: top;\n",
       "    }\n",
       "\n",
       "    .dataframe thead th {\n",
       "        text-align: right;\n",
       "    }\n",
       "</style>\n",
       "<table border=\"1\" class=\"dataframe\">\n",
       "  <thead>\n",
       "    <tr style=\"text-align: right;\">\n",
       "      <th></th>\n",
       "      <th>1</th>\n",
       "      <th>2</th>\n",
       "      <th>3</th>\n",
       "      <th>4</th>\n",
       "      <th>5</th>\n",
       "      <th>6</th>\n",
       "      <th>7</th>\n",
       "      <th>8</th>\n",
       "      <th>9</th>\n",
       "      <th>10</th>\n",
       "      <th>11</th>\n",
       "      <th>12</th>\n",
       "    </tr>\n",
       "  </thead>\n",
       "  <tbody>\n",
       "    <tr>\n",
       "      <th>0</th>\n",
       "      <td>58.0</td>\n",
       "      <td>62.6</td>\n",
       "      <td>70.0</td>\n",
       "      <td>55.7</td>\n",
       "      <td>85.0</td>\n",
       "      <td>83.5</td>\n",
       "      <td>94.8</td>\n",
       "      <td>66.3</td>\n",
       "      <td>75.9</td>\n",
       "      <td>75.5</td>\n",
       "      <td>158.6</td>\n",
       "      <td>85.2</td>\n",
       "    </tr>\n",
       "    <tr>\n",
       "      <th>1</th>\n",
       "      <td>73.3</td>\n",
       "      <td>75.9</td>\n",
       "      <td>89.2</td>\n",
       "      <td>88.3</td>\n",
       "      <td>90.0</td>\n",
       "      <td>100.0</td>\n",
       "      <td>85.4</td>\n",
       "      <td>103.0</td>\n",
       "      <td>91.2</td>\n",
       "      <td>65.7</td>\n",
       "      <td>63.3</td>\n",
       "      <td>75.4</td>\n",
       "    </tr>\n",
       "    <tr>\n",
       "      <th>2</th>\n",
       "      <td>70.0</td>\n",
       "      <td>43.5</td>\n",
       "      <td>45.3</td>\n",
       "      <td>56.4</td>\n",
       "      <td>60.7</td>\n",
       "      <td>50.7</td>\n",
       "      <td>66.3</td>\n",
       "      <td>59.8</td>\n",
       "      <td>23.5</td>\n",
       "      <td>23.2</td>\n",
       "      <td>28.5</td>\n",
       "      <td>44.0</td>\n",
       "    </tr>\n",
       "    <tr>\n",
       "      <th>3</th>\n",
       "      <td>35.0</td>\n",
       "      <td>50.0</td>\n",
       "      <td>71.0</td>\n",
       "      <td>59.3</td>\n",
       "      <td>59.7</td>\n",
       "      <td>39.6</td>\n",
       "      <td>78.4</td>\n",
       "      <td>29.3</td>\n",
       "      <td>27.1</td>\n",
       "      <td>46.6</td>\n",
       "      <td>37.6</td>\n",
       "      <td>40.0</td>\n",
       "    </tr>\n",
       "    <tr>\n",
       "      <th>4</th>\n",
       "      <td>44.0</td>\n",
       "      <td>32.0</td>\n",
       "      <td>45.7</td>\n",
       "      <td>38.0</td>\n",
       "      <td>36.0</td>\n",
       "      <td>31.7</td>\n",
       "      <td>22.0</td>\n",
       "      <td>39.0</td>\n",
       "      <td>28.0</td>\n",
       "      <td>25.0</td>\n",
       "      <td>20.0</td>\n",
       "      <td>6.7</td>\n",
       "    </tr>\n",
       "  </tbody>\n",
       "</table>\n",
       "</div>"
      ],
      "text/plain": [
       "     1     2     3     4     5      6     7      8     9     10     11    12\n",
       "0  58.0  62.6  70.0  55.7  85.0   83.5  94.8   66.3  75.9  75.5  158.6  85.2\n",
       "1  73.3  75.9  89.2  88.3  90.0  100.0  85.4  103.0  91.2  65.7   63.3  75.4\n",
       "2  70.0  43.5  45.3  56.4  60.7   50.7  66.3   59.8  23.5  23.2   28.5  44.0\n",
       "3  35.0  50.0  71.0  59.3  59.7   39.6  78.4   29.3  27.1  46.6   37.6  40.0\n",
       "4  44.0  32.0  45.7  38.0  36.0   31.7  22.0   39.0  28.0  25.0   20.0   6.7"
      ]
     },
     "execution_count": 1,
     "metadata": {},
     "output_type": "execute_result"
    }
   ],
   "source": [
    "import pandas as pd\n",
    "import numpy as np\n",
    "import matplotlib.pyplot as plt\n",
    "%matplotlib inline \n",
    "\n",
    "\n",
    "data = pd.read_csv('sunspot.txt',  header=None, delim_whitespace=True)\n",
    "del data[0] ## Deletes the \"year\" column\n",
    "#data = data.rename(columns={1: 'jan', 2: 'feb', 3: 'mar', 4:'apr',\n",
    "                     #5:'may', 6:'june', 7:'july', 8:'aug',\n",
    "                     #9:'sept', 10:'oct', 11:'nov', 12:'dec'})\n",
    "data = data.sort_index(ascending=True)\n",
    "data.head()"
   ]
  },
  {
   "cell_type": "code",
   "execution_count": 2,
   "metadata": {
    "scrolled": true
   },
   "outputs": [
    {
     "data": {
      "text/html": [
       "<div>\n",
       "<style scoped>\n",
       "    .dataframe tbody tr th:only-of-type {\n",
       "        vertical-align: middle;\n",
       "    }\n",
       "\n",
       "    .dataframe tbody tr th {\n",
       "        vertical-align: top;\n",
       "    }\n",
       "\n",
       "    .dataframe thead th {\n",
       "        text-align: right;\n",
       "    }\n",
       "</style>\n",
       "<table border=\"1\" class=\"dataframe\">\n",
       "  <thead>\n",
       "    <tr style=\"text-align: right;\">\n",
       "      <th></th>\n",
       "      <th>0</th>\n",
       "    </tr>\n",
       "  </thead>\n",
       "  <tbody>\n",
       "    <tr>\n",
       "      <th>0</th>\n",
       "      <td>91.2</td>\n",
       "    </tr>\n",
       "    <tr>\n",
       "      <th>1</th>\n",
       "      <td>65.7</td>\n",
       "    </tr>\n",
       "    <tr>\n",
       "      <th>2</th>\n",
       "      <td>63.3</td>\n",
       "    </tr>\n",
       "    <tr>\n",
       "      <th>3</th>\n",
       "      <td>75.4</td>\n",
       "    </tr>\n",
       "    <tr>\n",
       "      <th>4</th>\n",
       "      <td>70.0</td>\n",
       "    </tr>\n",
       "  </tbody>\n",
       "</table>\n",
       "</div>"
      ],
      "text/plain": [
       "      0\n",
       "0  91.2\n",
       "1  65.7\n",
       "2  63.3\n",
       "3  75.4\n",
       "4  70.0"
      ]
     },
     "execution_count": 2,
     "metadata": {},
     "output_type": "execute_result"
    }
   ],
   "source": [
    "label_index = 0\n",
    "i = 1\n",
    "j = 9\n",
    "\n",
    "labels_array = np.array([])\n",
    "\n",
    "while i < 261:\n",
    "    labels_array = np.append(labels_array,data.iloc[i][j].tolist())\n",
    "    label_index+=1\n",
    "    j+=1\n",
    "    if(j>12):\n",
    "        j=1\n",
    "        i+=1\n",
    "\n",
    "labels_test = pd.DataFrame(labels_array)\n",
    "labels_test.head()"
   ]
  },
  {
   "cell_type": "code",
   "execution_count": 3,
   "metadata": {
    "scrolled": true
   },
   "outputs": [],
   "source": [
    "i = 0\n",
    "j = 1\n",
    "i_start = 0\n",
    "j_start = 1\n",
    "count_r = 0\n",
    "count_c = 0\n",
    "data_test_set = []\n",
    "\n",
    "while count_r < 3112:\n",
    "    data_row = np.array([])\n",
    "    count_c = 0\n",
    "    j = j_start\n",
    "    i = i_start\n",
    "    \n",
    "    while count_c < 20:\n",
    "        count_c+=1\n",
    "        data_row = np.append(data_row, data.iloc[i][j].tolist())\n",
    "        j+=1\n",
    "        if(j>12):\n",
    "            j=1\n",
    "            i+=1\n",
    "            \n",
    "    j_start+=1\n",
    "    if j_start > 12:\n",
    "        j_start = 1\n",
    "        i_start+=1\n",
    "    data_test_set.append(data_row)\n",
    "    count_r+=1\n",
    "    \n",
    "data_test_df = pd.DataFrame(data_test_set)"
   ]
  },
  {
   "cell_type": "code",
   "execution_count": 20,
   "metadata": {},
   "outputs": [
    {
     "data": {
      "text/plain": [
       "3112"
      ]
     },
     "execution_count": 20,
     "metadata": {},
     "output_type": "execute_result"
    }
   ],
   "source": [
    "count_r"
   ]
  },
  {
   "cell_type": "code",
   "execution_count": 4,
   "metadata": {},
   "outputs": [
    {
     "data": {
      "text/html": [
       "<div>\n",
       "<style scoped>\n",
       "    .dataframe tbody tr th:only-of-type {\n",
       "        vertical-align: middle;\n",
       "    }\n",
       "\n",
       "    .dataframe tbody tr th {\n",
       "        vertical-align: top;\n",
       "    }\n",
       "\n",
       "    .dataframe thead th {\n",
       "        text-align: right;\n",
       "    }\n",
       "</style>\n",
       "<table border=\"1\" class=\"dataframe\">\n",
       "  <thead>\n",
       "    <tr style=\"text-align: right;\">\n",
       "      <th></th>\n",
       "      <th>0</th>\n",
       "      <th>1</th>\n",
       "      <th>2</th>\n",
       "      <th>3</th>\n",
       "      <th>4</th>\n",
       "      <th>5</th>\n",
       "      <th>6</th>\n",
       "      <th>7</th>\n",
       "      <th>8</th>\n",
       "      <th>9</th>\n",
       "      <th>10</th>\n",
       "      <th>11</th>\n",
       "      <th>12</th>\n",
       "      <th>13</th>\n",
       "      <th>14</th>\n",
       "      <th>15</th>\n",
       "      <th>16</th>\n",
       "      <th>17</th>\n",
       "      <th>18</th>\n",
       "      <th>19</th>\n",
       "    </tr>\n",
       "  </thead>\n",
       "  <tbody>\n",
       "    <tr>\n",
       "      <th>0</th>\n",
       "      <td>103.0</td>\n",
       "      <td>85.4</td>\n",
       "      <td>100.0</td>\n",
       "      <td>90.0</td>\n",
       "      <td>88.3</td>\n",
       "      <td>89.2</td>\n",
       "      <td>75.9</td>\n",
       "      <td>73.3</td>\n",
       "      <td>85.2</td>\n",
       "      <td>158.6</td>\n",
       "      <td>75.5</td>\n",
       "      <td>75.9</td>\n",
       "      <td>66.3</td>\n",
       "      <td>94.8</td>\n",
       "      <td>83.5</td>\n",
       "      <td>85.0</td>\n",
       "      <td>55.7</td>\n",
       "      <td>70.0</td>\n",
       "      <td>62.6</td>\n",
       "      <td>58.0</td>\n",
       "    </tr>\n",
       "    <tr>\n",
       "      <th>1</th>\n",
       "      <td>91.2</td>\n",
       "      <td>103.0</td>\n",
       "      <td>85.4</td>\n",
       "      <td>100.0</td>\n",
       "      <td>90.0</td>\n",
       "      <td>88.3</td>\n",
       "      <td>89.2</td>\n",
       "      <td>75.9</td>\n",
       "      <td>73.3</td>\n",
       "      <td>85.2</td>\n",
       "      <td>158.6</td>\n",
       "      <td>75.5</td>\n",
       "      <td>75.9</td>\n",
       "      <td>66.3</td>\n",
       "      <td>94.8</td>\n",
       "      <td>83.5</td>\n",
       "      <td>85.0</td>\n",
       "      <td>55.7</td>\n",
       "      <td>70.0</td>\n",
       "      <td>62.6</td>\n",
       "    </tr>\n",
       "    <tr>\n",
       "      <th>2</th>\n",
       "      <td>65.7</td>\n",
       "      <td>91.2</td>\n",
       "      <td>103.0</td>\n",
       "      <td>85.4</td>\n",
       "      <td>100.0</td>\n",
       "      <td>90.0</td>\n",
       "      <td>88.3</td>\n",
       "      <td>89.2</td>\n",
       "      <td>75.9</td>\n",
       "      <td>73.3</td>\n",
       "      <td>85.2</td>\n",
       "      <td>158.6</td>\n",
       "      <td>75.5</td>\n",
       "      <td>75.9</td>\n",
       "      <td>66.3</td>\n",
       "      <td>94.8</td>\n",
       "      <td>83.5</td>\n",
       "      <td>85.0</td>\n",
       "      <td>55.7</td>\n",
       "      <td>70.0</td>\n",
       "    </tr>\n",
       "    <tr>\n",
       "      <th>3</th>\n",
       "      <td>63.3</td>\n",
       "      <td>65.7</td>\n",
       "      <td>91.2</td>\n",
       "      <td>103.0</td>\n",
       "      <td>85.4</td>\n",
       "      <td>100.0</td>\n",
       "      <td>90.0</td>\n",
       "      <td>88.3</td>\n",
       "      <td>89.2</td>\n",
       "      <td>75.9</td>\n",
       "      <td>73.3</td>\n",
       "      <td>85.2</td>\n",
       "      <td>158.6</td>\n",
       "      <td>75.5</td>\n",
       "      <td>75.9</td>\n",
       "      <td>66.3</td>\n",
       "      <td>94.8</td>\n",
       "      <td>83.5</td>\n",
       "      <td>85.0</td>\n",
       "      <td>55.7</td>\n",
       "    </tr>\n",
       "    <tr>\n",
       "      <th>4</th>\n",
       "      <td>75.4</td>\n",
       "      <td>63.3</td>\n",
       "      <td>65.7</td>\n",
       "      <td>91.2</td>\n",
       "      <td>103.0</td>\n",
       "      <td>85.4</td>\n",
       "      <td>100.0</td>\n",
       "      <td>90.0</td>\n",
       "      <td>88.3</td>\n",
       "      <td>89.2</td>\n",
       "      <td>75.9</td>\n",
       "      <td>73.3</td>\n",
       "      <td>85.2</td>\n",
       "      <td>158.6</td>\n",
       "      <td>75.5</td>\n",
       "      <td>75.9</td>\n",
       "      <td>66.3</td>\n",
       "      <td>94.8</td>\n",
       "      <td>83.5</td>\n",
       "      <td>85.0</td>\n",
       "    </tr>\n",
       "  </tbody>\n",
       "</table>\n",
       "</div>"
      ],
      "text/plain": [
       "      0      1      2      3      4      5      6     7     8      9      10  \\\n",
       "0  103.0   85.4  100.0   90.0   88.3   89.2   75.9  73.3  85.2  158.6   75.5   \n",
       "1   91.2  103.0   85.4  100.0   90.0   88.3   89.2  75.9  73.3   85.2  158.6   \n",
       "2   65.7   91.2  103.0   85.4  100.0   90.0   88.3  89.2  75.9   73.3   85.2   \n",
       "3   63.3   65.7   91.2  103.0   85.4  100.0   90.0  88.3  89.2   75.9   73.3   \n",
       "4   75.4   63.3   65.7   91.2  103.0   85.4  100.0  90.0  88.3   89.2   75.9   \n",
       "\n",
       "      11     12     13    14    15    16    17    18    19  \n",
       "0   75.9   66.3   94.8  83.5  85.0  55.7  70.0  62.6  58.0  \n",
       "1   75.5   75.9   66.3  94.8  83.5  85.0  55.7  70.0  62.6  \n",
       "2  158.6   75.5   75.9  66.3  94.8  83.5  85.0  55.7  70.0  \n",
       "3   85.2  158.6   75.5  75.9  66.3  94.8  83.5  85.0  55.7  \n",
       "4   73.3   85.2  158.6  75.5  75.9  66.3  94.8  83.5  85.0  "
      ]
     },
     "execution_count": 4,
     "metadata": {},
     "output_type": "execute_result"
    }
   ],
   "source": [
    "columns = data_test_df.columns.tolist()\n",
    "columns = columns[::-1]\n",
    "data_test_df = data_test_df[columns]\n",
    "data_test_df.columns = [0, 1, 2, 3, 4, 5, 6, 7, 8, 9, 10, 11, 12, 13, 14, 15, 16, 17, 18, 19]\n",
    "data_test_df.head()"
   ]
  },
  {
   "cell_type": "code",
   "execution_count": 5,
   "metadata": {},
   "outputs": [
    {
     "data": {
      "text/plain": [
       "array([[  1. , 103. ,  85.4, ...,  70. ,  62.6,  58. ],\n",
       "       [  1. ,  91.2, 103. , ...,  55.7,  70. ,  62.6],\n",
       "       [  1. ,  65.7,  91.2, ...,  85. ,  55.7,  70. ],\n",
       "       ...,\n",
       "       [  1. ,   4.3,   0. , ...,   2.9,   9.3,   2.1],\n",
       "       [  1. ,   4.8,   4.3, ...,   3.2,   2.9,   9.3],\n",
       "       [  1. ,   4.1,   4.8, ...,   3.4,   3.2,   2.9]])"
      ]
     },
     "execution_count": 5,
     "metadata": {},
     "output_type": "execute_result"
    }
   ],
   "source": [
    "data_test_b = np.c_[np.ones((3112,1)), data_test_df]\n",
    "data_test_b"
   ]
  },
  {
   "cell_type": "code",
   "execution_count": 6,
   "metadata": {},
   "outputs": [],
   "source": [
    "# Normal Equation (theta that minimze COST FUNCTION MSE):\n",
    "theta_best = np.linalg.inv(data_test_b.T.dot(data_test_b)).dot(data_test_b.T).dot(labels_test.values)"
   ]
  },
  {
   "cell_type": "code",
   "execution_count": 34,
   "metadata": {},
   "outputs": [
    {
     "data": {
      "text/plain": [
       "array([[99.34702546],\n",
       "       [93.50425577],\n",
       "       [75.38995561],\n",
       "       ...,\n",
       "       [ 6.22301807],\n",
       "       [ 6.38242218],\n",
       "       [ 6.5075885 ]])"
      ]
     },
     "execution_count": 34,
     "metadata": {},
     "output_type": "execute_result"
    }
   ],
   "source": [
    "# Predicting using the trained parameter theta_best:\n",
    "y_hat = data_test_b.dot(theta_best)\n",
    "y_hat"
   ]
  },
  {
   "cell_type": "code",
   "execution_count": 18,
   "metadata": {},
   "outputs": [
    {
     "data": {
      "text/plain": [
       "array([[91.2],\n",
       "       [65.7],\n",
       "       [63.3],\n",
       "       ...,\n",
       "       [ 4.8],\n",
       "       [ 4.1],\n",
       "       [10.8]])"
      ]
     },
     "execution_count": 18,
     "metadata": {},
     "output_type": "execute_result"
    }
   ],
   "source": [
    "labels_test.values"
   ]
  },
  {
   "cell_type": "code",
   "execution_count": 27,
   "metadata": {},
   "outputs": [
    {
     "data": {
      "text/plain": [
       "15.370232088543425"
      ]
     },
     "execution_count": 27,
     "metadata": {},
     "output_type": "execute_result"
    }
   ],
   "source": [
    "import math\n",
    "error = np.sqrt(np.mean((labels_test.values - y_hat)**2))\n",
    "error\n"
   ]
  },
  {
   "cell_type": "code",
   "execution_count": 122,
   "metadata": {
    "scrolled": false
   },
   "outputs": [
    {
     "data": {
      "image/png": "[encoded data removed]",
      "text/plain": [
       "<Figure size 1120x320 with 1 Axes>"
      ]
     },
     "metadata": {},
     "output_type": "display_data"
    }
   ],
   "source": [
    "%matplotlib inline \n",
    "import matplotlib.pyplot as plt\n",
    "from matplotlib.pyplot import figure\n",
    "figure(num=None, figsize=(14, 4), dpi=80, facecolor='w', edgecolor='k')\n",
    "#data_test_df.hist(bins=50, figsize=(20,13))\n",
    "x = np.linspace(1, 100,num=200)\n",
    "plt.plot(x,y_hat[:200,:],'--r',label='Test')\n",
    "plt.plot(x,labels_test.values[:200,:],'-')\n",
    "plt.grid(True)\n",
    "plt.gca().legend(('Predicted','Real'))\n",
    "plt.xlabel('Time')\n",
    "plt.ylabel('Sunspots')\n",
    "\n",
    "plt.show()"
   ]
  },
  {
   "cell_type": "code",
   "execution_count": 98,
   "metadata": {},
   "outputs": [],
   "source": [
    "#from pandas.plotting import scatter_matrix\n",
    "#scatter_matrix(data_test_df, figsize=(15,10))"
   ]
  },
  {
   "cell_type": "code",
   "execution_count": 29,
   "metadata": {},
   "outputs": [
    {
     "data": {
      "text/plain": [
       "2.0"
      ]
     },
     "execution_count": 29,
     "metadata": {},
     "output_type": "execute_result"
    }
   ],
   "source": [
    "np.mean(np.array([2, 2]))"
   ]
  },
  {
   "cell_type": "code",
   "execution_count": null,
   "metadata": {},
   "outputs": [],
   "source": []
  }
 ],
 "metadata": {
  "kernelspec": {
   "display_name": "Python 3",
   "language": "python",
   "name": "python3"
  },
  "language_info": {
   "codemirror_mode": {
    "name": "ipython",
    "version": 3
   },
   "file_extension": ".py",
   "mimetype": "text/x-python",
   "name": "python",
   "nbconvert_exporter": "python",
   "pygments_lexer": "ipython3",
   "version": "3.7.1"
  }
 },
 "nbformat": 4,
 "nbformat_minor": 2
}

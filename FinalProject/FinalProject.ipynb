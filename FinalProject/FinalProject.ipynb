{
 "cells": [
  {
   "cell_type": "markdown",
   "metadata": {},
   "source": [
    "# Projeto Final IA006 2019.1\n",
    "#### Samuel Gomes"
   ]
  },
  {
   "cell_type": "markdown",
   "metadata": {},
   "source": [
    "### Dados"
   ]
  },
  {
   "cell_type": "code",
   "execution_count": 1,
   "metadata": {},
   "outputs": [
    {
     "name": "stdout",
     "output_type": "stream",
     "text": [
      "Training Data\n",
      "Shape: (25010, 11)\n",
      "   S1  C1  S2  C2  S3  C3  S4  C4  S5  C5  jogo\n",
      "0   1  10   1  11   1  13   1  12   1   1     9\n",
      "1   2  11   2  13   2  10   2  12   2   1     9\n",
      "2   3  12   3  11   3  13   3  10   3   1     9\n",
      "3   4  10   4  11   4   1   4  13   4  12     9\n",
      "4   4   1   4  13   4  12   4  11   4  10     9\n",
      "Test Data\n",
      "Shape: (1000000, 11)\n",
      "   S1  C1  S2  C2  S3  C3  S4  C4  S5  C5  jogo\n",
      "0   1   1   1  13   2   4   2   3   1  12     0\n",
      "1   3  12   3   2   3  11   4   5   2   5     1\n",
      "2   1   9   4   6   1   4   3   2   3   9     1\n",
      "3   1   4   3  13   2  13   2   1   3   6     1\n",
      "4   3  10   2   7   1   2   2  11   4   9     0\n"
     ]
    }
   ],
   "source": [
    "import scipy.io\n",
    "import pandas as pd\n",
    "import numpy as np\n",
    "import matplotlib.pyplot as plt\n",
    "\n",
    "data_train = pd.read_csv('poker-hand-training-true.data', header=None, names=['S1','C1','S2','C2','S3','C3','S4','C4','S5','C5','jogo'])\n",
    "data_train2 = pd.read_csv('poker-hand-training-true.data', header=None, names=['N1','V1','N2','V2','N3','V3','N4','V4','N5','V5','jogo'])\n",
    "data_test = pd.read_csv('poker-hand-testing.data', header=None, names=['S1','C1','S2','C2','S3','C3','S4','C4','S5','C5','jogo'])\n",
    "\n",
    "print('Training Data')\n",
    "print('Shape:',data_train.shape)\n",
    "print(data_train.head())\n",
    "\n",
    "print('Test Data')\n",
    "print('Shape:',data_test.shape)\n",
    "print(data_test.head())\n",
    "\n",
    "# Dados originais com 0s e 1s (conjunto de treinamento)\n",
    "data01_train_labels = data_train.jogo # labels\n",
    "data01_train = data_train.drop(['jogo'],axis=1)\n",
    "\n",
    "# Dados originais com 0s e 1s (conjunto deteste)\n",
    "data01_test_labels = data_test.jogo # labels\n",
    "data01_test = data_test.drop(['jogo'],axis=1)"
   ]
  },
  {
   "cell_type": "code",
   "execution_count": 2,
   "metadata": {},
   "outputs": [
    {
     "data": {
      "text/html": [
       "<div>\n",
       "<style scoped>\n",
       "    .dataframe tbody tr th:only-of-type {\n",
       "        vertical-align: middle;\n",
       "    }\n",
       "\n",
       "    .dataframe tbody tr th {\n",
       "        vertical-align: top;\n",
       "    }\n",
       "\n",
       "    .dataframe thead th {\n",
       "        text-align: right;\n",
       "    }\n",
       "</style>\n",
       "<table border=\"1\" class=\"dataframe\">\n",
       "  <thead>\n",
       "    <tr style=\"text-align: right;\">\n",
       "      <th></th>\n",
       "      <th>N1</th>\n",
       "      <th>V1</th>\n",
       "      <th>N2</th>\n",
       "      <th>V2</th>\n",
       "      <th>N3</th>\n",
       "      <th>V3</th>\n",
       "      <th>N4</th>\n",
       "      <th>V4</th>\n",
       "      <th>N5</th>\n",
       "      <th>V5</th>\n",
       "      <th>jogo</th>\n",
       "    </tr>\n",
       "  </thead>\n",
       "  <tbody>\n",
       "    <tr>\n",
       "      <th>0</th>\n",
       "      <td>1</td>\n",
       "      <td>10</td>\n",
       "      <td>1</td>\n",
       "      <td>11</td>\n",
       "      <td>1</td>\n",
       "      <td>13</td>\n",
       "      <td>1</td>\n",
       "      <td>12</td>\n",
       "      <td>1</td>\n",
       "      <td>1</td>\n",
       "      <td>9</td>\n",
       "    </tr>\n",
       "    <tr>\n",
       "      <th>1</th>\n",
       "      <td>2</td>\n",
       "      <td>11</td>\n",
       "      <td>2</td>\n",
       "      <td>13</td>\n",
       "      <td>2</td>\n",
       "      <td>10</td>\n",
       "      <td>2</td>\n",
       "      <td>12</td>\n",
       "      <td>2</td>\n",
       "      <td>1</td>\n",
       "      <td>9</td>\n",
       "    </tr>\n",
       "    <tr>\n",
       "      <th>2</th>\n",
       "      <td>3</td>\n",
       "      <td>12</td>\n",
       "      <td>3</td>\n",
       "      <td>11</td>\n",
       "      <td>3</td>\n",
       "      <td>13</td>\n",
       "      <td>3</td>\n",
       "      <td>10</td>\n",
       "      <td>3</td>\n",
       "      <td>1</td>\n",
       "      <td>9</td>\n",
       "    </tr>\n",
       "    <tr>\n",
       "      <th>3</th>\n",
       "      <td>4</td>\n",
       "      <td>10</td>\n",
       "      <td>4</td>\n",
       "      <td>11</td>\n",
       "      <td>4</td>\n",
       "      <td>1</td>\n",
       "      <td>4</td>\n",
       "      <td>13</td>\n",
       "      <td>4</td>\n",
       "      <td>12</td>\n",
       "      <td>9</td>\n",
       "    </tr>\n",
       "    <tr>\n",
       "      <th>4</th>\n",
       "      <td>4</td>\n",
       "      <td>1</td>\n",
       "      <td>4</td>\n",
       "      <td>13</td>\n",
       "      <td>4</td>\n",
       "      <td>12</td>\n",
       "      <td>4</td>\n",
       "      <td>11</td>\n",
       "      <td>4</td>\n",
       "      <td>10</td>\n",
       "      <td>9</td>\n",
       "    </tr>\n",
       "  </tbody>\n",
       "</table>\n",
       "</div>"
      ],
      "text/plain": [
       "   N1  V1  N2  V2  N3  V3  N4  V4  N5  V5  jogo\n",
       "0   1  10   1  11   1  13   1  12   1   1     9\n",
       "1   2  11   2  13   2  10   2  12   2   1     9\n",
       "2   3  12   3  11   3  13   3  10   3   1     9\n",
       "3   4  10   4  11   4   1   4  13   4  12     9\n",
       "4   4   1   4  13   4  12   4  11   4  10     9"
      ]
     },
     "execution_count": 2,
     "metadata": {},
     "output_type": "execute_result"
    }
   ],
   "source": [
    "data_train2.head()"
   ]
  },
  {
   "cell_type": "code",
   "execution_count": 3,
   "metadata": {},
   "outputs": [
    {
     "data": {
      "image/png": "[encoded data removed]",
      "text/plain": [
       "<Figure size 720x720 with 12 Axes>"
      ]
     },
     "metadata": {
      "needs_background": "light"
     },
     "output_type": "display_data"
    }
   ],
   "source": [
    "data_train.hist(figsize=(10,10))\n",
    "plt.show()"
   ]
  },
  {
   "cell_type": "markdown",
   "metadata": {},
   "source": [
    "### Dados Cru (Sem 0s e 1s)"
   ]
  },
  {
   "cell_type": "code",
   "execution_count": 4,
   "metadata": {},
   "outputs": [
    {
     "name": "stdout",
     "output_type": "stream",
     "text": [
      "Training Data\n",
      "(1918, 11)\n",
      "   S1  C1  S2  C2  S3  C3  S4  C4  S5  C5  jogo\n",
      "0   1  10   1  11   1  13   1  12   1   1     9\n",
      "1   2  11   2  13   2  10   2  12   2   1     9\n",
      "2   3  12   3  11   3  13   3  10   3   1     9\n",
      "3   4  10   4  11   4   1   4  13   4  12     9\n",
      "4   4   1   4  13   4  12   4  11   4  10     9\n",
      "\n",
      "Test Data\n",
      "(76293, 11)\n",
      "   S1  C1  S2  C2  S3  C3  S4  C4  S5  C5  jogo\n",
      "0   4   8   1   3   2   3   2   2   2   8     2\n",
      "1   1   9   1   6   4   5   3   5   1   5     3\n",
      "2   2  12   3  12   3   7   3  11   2   7     2\n",
      "3   1   9   3   7   2   9   4   9   2   4     3\n",
      "4   3  10   3   6   1  10   1   6   2   9     2\n"
     ]
    },
    {
     "name": "stderr",
     "output_type": "stream",
     "text": [
      "C:\\Users\\Samuel\\Anaconda3\\lib\\site-packages\\ipykernel_launcher.py:3: UserWarning: Boolean Series key will be reindexed to match DataFrame index.\n",
      "  This is separate from the ipykernel package so we can avoid doing imports until\n",
      "C:\\Users\\Samuel\\Anaconda3\\lib\\site-packages\\ipykernel_launcher.py:12: UserWarning: Boolean Series key will be reindexed to match DataFrame index.\n",
      "  if sys.path[0] == '':\n"
     ]
    }
   ],
   "source": [
    "print('Training Data')\n",
    "data_raw = data_train[data_train['jogo'] != 0]\n",
    "data_raw = data_raw[data_train['jogo'] != 1]\n",
    "data_raw = data_raw.reset_index(drop=True)\n",
    "print(data_raw.shape)\n",
    "print(data_raw.head())\n",
    "X_raw = data_raw.drop(['jogo'],axis=1)\n",
    "y_raw = data_raw.jogo\n",
    "print()\n",
    "print('Test Data')\n",
    "data_raw_test = data_test[data_test['jogo'] != 0]\n",
    "data_raw_test = data_raw_test[data_test['jogo'] != 1]\n",
    "data_raw_test = data_raw_test.reset_index(drop=True)\n",
    "print(data_raw_test.shape)\n",
    "print(data_raw_test.head())\n",
    "X_raw_test = data_raw_test.drop(['jogo'],axis=1)\n",
    "y_raw_test = data_raw_test.jogo"
   ]
  },
  {
   "cell_type": "code",
   "execution_count": 5,
   "metadata": {},
   "outputs": [
    {
     "data": {
      "image/png": "[encoded data removed]",
      "text/plain": [
       "<Figure size 720x720 with 12 Axes>"
      ]
     },
     "metadata": {
      "needs_background": "light"
     },
     "output_type": "display_data"
    }
   ],
   "source": [
    "data_raw.hist(figsize=(10,10))\n",
    "plt.show()"
   ]
  },
  {
   "cell_type": "markdown",
   "metadata": {},
   "source": [
    "### Dados Codificados (Com 0s e 1s)"
   ]
  },
  {
   "cell_type": "code",
   "execution_count": 6,
   "metadata": {},
   "outputs": [
    {
     "name": "stdout",
     "output_type": "stream",
     "text": [
      "shape train: (25010, 85)\n",
      "shape test: (1000000, 85)\n"
     ]
    }
   ],
   "source": [
    "from functools import partial\n",
    "def encode_poker_hand_data(poker_hands):\n",
    "    # encode data using one hot encoding\n",
    "    \n",
    "    # inner function to expand ordinals into a series of 0's and one 1\n",
    "    def encode(x, n):\n",
    "        out = [0] * n\n",
    "        out[x] = 1\n",
    "\n",
    "        return out\n",
    "\n",
    "    # dataset uses numbers 1-4 and 1-13 identify cards. Change to start at zero\n",
    "    poker_hands.iloc[:, :-1] -= 1\n",
    "\n",
    "    # encode suits (0-3)\n",
    "    temp = poker_hands['S1,S2,S3,S4,S5'.split(',')].applymap(partial(encode, n=4)).itertuples(index=False)\n",
    "    encoded_suits = pd.DataFrame([[x for g in r for x in g] for r in temp])\n",
    "\n",
    "    # encode ranks (0-12)\n",
    "    temp = poker_hands['C1,C2,C3,C4,C5'.split(',')].applymap(partial(encode, n=13)).itertuples(index=False)\n",
    "    encoded_ranks = pd.DataFrame([[x for g in r for x in g] for r in temp])\n",
    "\n",
    "    # put them all together. order is irrelevant\n",
    "    encoded_data = pd.concat([encoded_suits, encoded_ranks], axis=1)\n",
    "    encoded_data.columns = range(encoded_data.shape[1])\n",
    "\n",
    "    # encode hand classifications (0-9)\n",
    "    encoded_classifications = pd.DataFrame([x for x in poker_hands['jogo'].apply(partial(encode, n=10))])\n",
    "    \n",
    "    # shuffle data\n",
    "    random_index = np.random.permutation(encoded_data.shape[0])\n",
    "    encoded_data = encoded_data.iloc[random_index].reset_index(drop=True)\n",
    "    encoded_classifications = encoded_classifications.iloc[random_index].reset_index(drop=True)\n",
    "    \n",
    "    return encoded_data, encoded_classifications\n",
    "\n",
    "np.random.seed(42)\n",
    "\n",
    "# Dados codificados COM 0s e 1s\n",
    "data_cod, data_cod_labels = encode_poker_hand_data(data_train)\n",
    "data_cod_test, data_cod_test_labels = encode_poker_hand_data(data_test)\n",
    "\n",
    "# Dados codificados SEM 0s e 1s\n",
    "#data_cod, data_cod_labels = encode_poker_hand_data(X_raw)\n",
    "#data_cod_test, data_cod_test_labels = encode_poker_hand_data(X_raw_test)\n",
    "\n",
    "print('shape train:',data_cod.shape)\n",
    "print('shape test:',data_cod_test.shape)"
   ]
  },
  {
   "cell_type": "markdown",
   "metadata": {},
   "source": [
    "### MLP - DB Cru\n",
    "\n"
   ]
  },
  {
   "cell_type": "code",
   "execution_count": 7,
   "metadata": {},
   "outputs": [
    {
     "data": {
      "text/plain": [
       "array([2, 3, 4, 5, 6, 7, 8, 9], dtype=int64)"
      ]
     },
     "execution_count": 7,
     "metadata": {},
     "output_type": "execute_result"
    }
   ],
   "source": [
    "np.unique(y_raw)"
   ]
  },
  {
   "cell_type": "code",
   "execution_count": 8,
   "metadata": {},
   "outputs": [
    {
     "name": "stdout",
     "output_type": "stream",
     "text": [
      "(1918, 10)\n"
     ]
    }
   ],
   "source": [
    "print(X_raw.shape)\n"
   ]
  },
  {
   "cell_type": "code",
   "execution_count": 9,
   "metadata": {
    "scrolled": false
   },
   "outputs": [
    {
     "name": "stdout",
     "output_type": "stream",
     "text": [
      "Acurácia (teste): 0.683626\n"
     ]
    },
    {
     "data": {
      "image/png": "[encoded data removed]",
      "text/plain": [
       "<Figure size 432x288 with 1 Axes>"
      ]
     },
     "metadata": {
      "needs_background": "light"
     },
     "output_type": "display_data"
    }
   ],
   "source": [
    "from sklearn.model_selection import train_test_split\n",
    "from sklearn.preprocessing import StandardScaler\n",
    "from sklearn.neural_network import MLPClassifier\n",
    "from sklearn.metrics import f1_score, accuracy_score, roc_auc_score, confusion_matrix\n",
    "\n",
    "\n",
    "mlp = MLPClassifier(hidden_layer_sizes=(52,26), \n",
    "                    verbose=False, activation='tanh', learning_rate_init=0.01, max_iter=1000, solver='adam')\n",
    "\n",
    "mlp.fit(data01_train, data01_train_labels) # Dados originais\n",
    "\n",
    "pred_test = mlp.predict(data01_test)\n",
    "\n",
    "\n",
    "# Confusion Matrix\n",
    "cm = confusion_matrix(data01_test_labels, pred_test)\n",
    "\n",
    "# Acurácia\n",
    "\n",
    "print('Acurácia (teste):',accuracy_score(data01_test_labels, pred_test))\n",
    "\n",
    "\n",
    "\n",
    "pd.DataFrame(mlp.loss_curve_).plot()\n",
    "plt.legend(('Training Error',))\n",
    "plt.grid(True)\n",
    "plt.show()"
   ]
  },
  {
   "cell_type": "code",
   "execution_count": 10,
   "metadata": {},
   "outputs": [
    {
     "data": {
      "text/plain": [
       "0.9928043174095542"
      ]
     },
     "execution_count": 10,
     "metadata": {},
     "output_type": "execute_result"
    }
   ],
   "source": [
    "from sklearn.model_selection import cross_val_score  \n",
    "all_accuracies = cross_val_score(estimator=mlp, X=data01_train, y=data01_train_labels, cv=5)\n",
    "max(all_accuracies)"
   ]
  },
  {
   "cell_type": "markdown",
   "metadata": {},
   "source": [
    "### MLP - DB Cru Sem 0s e 1s"
   ]
  },
  {
   "cell_type": "code",
   "execution_count": 11,
   "metadata": {},
   "outputs": [
    {
     "name": "stdout",
     "output_type": "stream",
     "text": [
      "Acurácia (teste): 0.5771958108869752\n"
     ]
    },
    {
     "data": {
      "image/png": "[encoded data removed]",
      "text/plain": [
       "<Figure size 432x288 with 1 Axes>"
      ]
     },
     "metadata": {
      "needs_background": "light"
     },
     "output_type": "display_data"
    }
   ],
   "source": [
    "from sklearn.model_selection import train_test_split\n",
    "from sklearn.preprocessing import StandardScaler\n",
    "from sklearn.neural_network import MLPClassifier\n",
    "from sklearn.metrics import f1_score, accuracy_score, roc_auc_score, confusion_matrix\n",
    "\n",
    "scores = ['precision', 'recall']\n",
    "\n",
    "#X_train, X_test, y_train, y_test = train_test_split(kappa_x, kappa_y, test_size=0.3, random_state=42)\n",
    "#X_train = data_train.copy()\n",
    "#y_train = data_train_labels.copy()\n",
    "# scaler = StandardScaler()\n",
    "# scaler.fit(X_raw)\n",
    "# X_raw = scaler.transform(X_raw)\n",
    "#X_test = scaler.transform(X_val)\n",
    "\n",
    "\n",
    "mlp2 = MLPClassifier(hidden_layer_sizes=(52,26), \n",
    "                    verbose=False, activation='tanh', learning_rate_init=0.01, max_iter=1000, solver='adam')\n",
    "\n",
    "mlp2.fit(X_raw, y_raw)\n",
    "\n",
    "pred_test2 = mlp2.predict(X_raw_test)\n",
    "\n",
    "\n",
    "# Confusion Matrix\n",
    "cm2 = confusion_matrix(y_raw_test, pred_test2)\n",
    "\n",
    "# Acurácia\n",
    "\n",
    "print('Acurácia (teste):',accuracy_score(y_raw_test, pred_test2))\n",
    "# F1-Score\n",
    "#print('F1-Score:', f1_score(y_test, predictions, average='macro'))\n",
    "\n",
    "\n",
    "\n",
    "pd.DataFrame(mlp2.loss_curve_).plot()\n",
    "plt.legend(('Training Error',))\n",
    "plt.grid(True)\n",
    "plt.show()"
   ]
  },
  {
   "cell_type": "code",
   "execution_count": 12,
   "metadata": {},
   "outputs": [
    {
     "data": {
      "text/plain": [
       "0.599483204134367"
      ]
     },
     "execution_count": 12,
     "metadata": {},
     "output_type": "execute_result"
    }
   ],
   "source": [
    "from sklearn.model_selection import cross_val_score  \n",
    "all_accuracies = cross_val_score(estimator=mlp2, X=X_raw, y=y_raw, cv=5)\n",
    "max(all_accuracies)"
   ]
  },
  {
   "cell_type": "markdown",
   "metadata": {},
   "source": [
    "### MLP - DB Codificado"
   ]
  },
  {
   "cell_type": "code",
   "execution_count": 13,
   "metadata": {},
   "outputs": [
    {
     "name": "stdout",
     "output_type": "stream",
     "text": [
      "Acurácia (teste): 0.97223\n"
     ]
    },
    {
     "data": {
      "image/png": "[encoded data removed]",
      "text/plain": [
       "<Figure size 432x288 with 1 Axes>"
      ]
     },
     "metadata": {
      "needs_background": "light"
     },
     "output_type": "display_data"
    }
   ],
   "source": [
    "from sklearn.model_selection import train_test_split\n",
    "from sklearn.preprocessing import StandardScaler\n",
    "from sklearn.neural_network import MLPClassifier\n",
    "from sklearn.metrics import f1_score, accuracy_score, roc_auc_score, confusion_matrix\n",
    "\n",
    "scores = ['precision', 'recall']\n",
    "\n",
    "#X_train, X_test, y_train, y_test = train_test_split(kappa_x, kappa_y, test_size=0.3, random_state=42)\n",
    "#X_train = data_train.copy()\n",
    "#y_train = data_train_labels.copy()\n",
    "#scaler = StandardScaler()\n",
    "#scaler.fit(X_train, X_val)\n",
    "#X_train = scaler.transform(X_train)\n",
    "#X_test = scaler.transform(X_val)\n",
    "\n",
    "\n",
    "mlp3 = MLPClassifier(hidden_layer_sizes=(52,26), \n",
    "                    verbose=False, random_state=42, activation='tanh', learning_rate_init=0.01, max_iter=1000, solver='adam')\n",
    "\n",
    "mlp3.fit(data_cod, data_cod_labels)\n",
    "\n",
    "pred_test3 = mlp3.predict(data_cod_test)\n",
    "\n",
    "\n",
    "# Confusion Matrix\n",
    "#cm = confusion_matrix(data_cod_test_labels, pred_test3)\n",
    "\n",
    "# Acurácia\n",
    "\n",
    "print('Acurácia (teste):',accuracy_score(data_cod_test_labels, pred_test3))\n",
    "# F1-Score\n",
    "#print('F1-Score:', f1_score(y_test, predictions, average='macro'))\n",
    "\n",
    "\n",
    "\n",
    "pd.DataFrame(mlp3.loss_curve_).plot()\n",
    "plt.legend(('test',))\n",
    "plt.grid(True)\n",
    "plt.show()"
   ]
  },
  {
   "cell_type": "code",
   "execution_count": 14,
   "metadata": {},
   "outputs": [
    {
     "data": {
      "text/plain": [
       "0.9618152738904439"
      ]
     },
     "execution_count": 14,
     "metadata": {},
     "output_type": "execute_result"
    }
   ],
   "source": [
    "from sklearn.model_selection import cross_val_score  \n",
    "all_accuracies = cross_val_score(estimator=mlp3, X=data_cod, y=data_cod_labels, cv=5)\n",
    "max(all_accuracies)"
   ]
  },
  {
   "cell_type": "markdown",
   "metadata": {},
   "source": [
    "### MLP com DB Full + *Holdout*"
   ]
  },
  {
   "cell_type": "code",
   "execution_count": 15,
   "metadata": {
    "scrolled": true
   },
   "outputs": [
    {
     "name": "stdout",
     "output_type": "stream",
     "text": [
      "Acurácia (teste): 0.9968536892323002\n"
     ]
    },
    {
     "data": {
      "image/png": "[encoded data removed]",
      "text/plain": [
       "<Figure size 432x288 with 1 Axes>"
      ]
     },
     "metadata": {
      "needs_background": "light"
     },
     "output_type": "display_data"
    }
   ],
   "source": [
    "from sklearn.model_selection import train_test_split\n",
    "from sklearn.preprocessing import StandardScaler\n",
    "from sklearn.neural_network import MLPClassifier\n",
    "from sklearn.metrics import f1_score, accuracy_score, roc_auc_score, confusion_matrix\n",
    "\n",
    "a = data01_train.copy()\n",
    "b = data01_train_labels.copy()\n",
    "\n",
    "a2 = data01_test.copy()\n",
    "b2 = data01_test_labels.copy()\n",
    "\n",
    "data_full = pd.concat([a, a2])\n",
    "data_full_labels = pd.concat([b, b2])\n",
    "\n",
    "data_full_train, data_full_test, data_full_train_labels, data_full_test_labels = train_test_split(data_full, data_full_labels, test_size=0.4, random_state=42)\n",
    "\n",
    "mlp4 = MLPClassifier(hidden_layer_sizes=(52,26), \n",
    "                    verbose=False, random_state=42, activation='tanh', learning_rate_init=0.01, max_iter=1000, solver='adam')\n",
    "\n",
    "mlp4.fit(data_full_train, data_full_train_labels) # treino\n",
    "pred_test4 = mlp4.predict(data_full_test) # predição\n",
    "\n",
    "print('Acurácia (teste):',accuracy_score(data_full_test_labels, pred_test4))\n",
    "\n",
    "pd.DataFrame(mlp4.loss_curve_).plot()\n",
    "plt.legend(('test',))\n",
    "plt.grid(True)\n",
    "plt.show()"
   ]
  },
  {
   "cell_type": "code",
   "execution_count": 16,
   "metadata": {},
   "outputs": [
    {
     "data": {
      "text/plain": [
       "(410004, 10)"
      ]
     },
     "execution_count": 16,
     "metadata": {},
     "output_type": "execute_result"
    }
   ],
   "source": [
    "data_full_test.shape"
   ]
  },
  {
   "cell_type": "code",
   "execution_count": 17,
   "metadata": {},
   "outputs": [
    {
     "data": {
      "text/plain": [
       "0.9618152738904439"
      ]
     },
     "execution_count": 17,
     "metadata": {},
     "output_type": "execute_result"
    }
   ],
   "source": [
    "from sklearn.model_selection import cross_val_score  \n",
    "all_accuracies = cross_val_score(estimator=mlp4, X=data_cod, y=data_cod_labels, cv=5)\n",
    "max(all_accuracies)"
   ]
  },
  {
   "cell_type": "code",
   "execution_count": 18,
   "metadata": {
    "scrolled": false
   },
   "outputs": [
    {
     "data": {
      "image/png": "[encoded data removed]",
      "text/plain": [
       "<Figure size 720x432 with 1 Axes>"
      ]
     },
     "metadata": {
      "needs_background": "light"
     },
     "output_type": "display_data"
    }
   ],
   "source": [
    "plt.figure(figsize=(10,6))\n",
    "plt.plot(pd.DataFrame(mlp.loss_curve_))\n",
    "plt.plot(pd.DataFrame(mlp2.loss_curve_))\n",
    "plt.plot(pd.DataFrame(mlp3.loss_curve_))\n",
    "plt.plot(pd.DataFrame(mlp4.loss_curve_))\n",
    "plt.legend(('Original $D_1$', 'Sem 0s e 1s $D_2$', 'Codificado $D_3$', 'Completo Holdoff $D_4$'))\n",
    "plt.title('Erro de treinamento para diferentes $datasets$')\n",
    "plt.xlabel('Épocas')\n",
    "plt.ylabel('Erro')\n",
    "plt.grid(True)\n",
    "plt.show()"
   ]
  },
  {
   "cell_type": "code",
   "execution_count": 19,
   "metadata": {
    "scrolled": false
   },
   "outputs": [],
   "source": [
    "# from sklearn.model_selection import train_test_split\n",
    "# from sklearn.preprocessing import StandardScaler\n",
    "# from sklearn.neural_network import MLPClassifier\n",
    "# from sklearn.model_selection import GridSearchCV\n",
    "# from sklearn.metrics import classification_report\n",
    "# from sklearn.metrics import f1_score, accuracy_score, roc_auc_score, confusion_matrix\n",
    "\n",
    "# tuned_parameters = [{'activation': ['relu'], 'learning_rate_init': [0.1, 0.001, 0.0001],\n",
    "#                      'hidden_layer_sizes': [(10,10,10,10,8), (20,20,20,20,8), (52,25,10)]}]\n",
    "#                     #{'activation': ['relu'], 'learning_rate_init': [0.1, 0.01, 0.001]}]\n",
    "\n",
    "\n",
    "# scores = ['accuracy', 'f1']\n",
    "\n",
    "# #X_train, X_val, y_train, y_val = train_test_split(data_train, data_train_labels, test_size=0.3, random_state=42)\n",
    "# #X_train = data_train.copy()\n",
    "# #y_train = data_train_labels.copy()\n",
    "# #scaler = StandardScaler()\n",
    "# #scaler.fit(X_train, X_val)\n",
    "# #X_train = scaler.transform(X_train)\n",
    "# #X_test = scaler.transform(X_val)\n",
    "\n",
    "# for score in scores:\n",
    "#     print(\"# Tuning hyper-parameters for %s\" % score)\n",
    "#     print()\n",
    "    \n",
    "#     mlp2 = MLPClassifier(verbose=False, random_state=42)\n",
    "    \n",
    "#     clf = GridSearchCV(mlp2, tuned_parameters, cv=3)\n",
    "#     clf.fit(train_X, train_Y)\n",
    "    \n",
    "#     print(\"Best parameters set found on development set:\")\n",
    "#     print()\n",
    "#     print(clf.best_params_)\n",
    "#     print()\n",
    "#     print(\"Grid scores on development set:\")\n",
    "#     print()\n",
    "#     means = clf.cv_results_['mean_test_score']\n",
    "#     stds = clf.cv_results_['std_test_score']\n",
    "#     for mean, std, params in zip(means, stds, clf.cv_results_['params']):\n",
    "#         print(\"%0.3f (+/-%0.03f) for %r\" % (mean, std * 2, params))\n",
    "#         print()\n",
    "        \n",
    "#     print(\"Detailed classification report:\")\n",
    "#     print()\n",
    "#     print(\"The model is trained on the full development set.\")\n",
    "#     print(\"The scores are computed on the full evaluation set.\")\n",
    "#     print()\n",
    "#     y_true, y_pred = y_val, clf.predict(X_val)\n",
    "#     print(classification_report(y_true, y_pred))\n",
    "#     print()\n",
    "\n"
   ]
  },
  {
   "cell_type": "markdown",
   "metadata": {},
   "source": [
    "### MLP (85 - 52 - 26 - 10) Matriz de confusão"
   ]
  },
  {
   "cell_type": "code",
   "execution_count": 20,
   "metadata": {},
   "outputs": [],
   "source": [
    "import numpy as np\n",
    "\n",
    "def plot_confusion_matrix(cm,\n",
    "                          target_names,\n",
    "                          title='Confusion matrix',\n",
    "                          cmap=None,\n",
    "                          normalize=True):\n",
    "\n",
    "    import matplotlib.pyplot as plt\n",
    "    import numpy as np\n",
    "    import itertools\n",
    "\n",
    "    accuracy = np.trace(cm) / float(np.sum(cm))\n",
    "    misclass = 1 - accuracy\n",
    "\n",
    "    if cmap is None:\n",
    "        cmap = plt.get_cmap('Blues')\n",
    "\n",
    "    plt.figure(figsize=(20, 10))\n",
    "    plt.imshow(cm, interpolation='nearest', cmap=cmap)\n",
    "    plt.title(title)\n",
    "    plt.colorbar()\n",
    "\n",
    "    if target_names is not None:\n",
    "        tick_marks = np.arange(len(target_names))\n",
    "        plt.xticks(tick_marks, target_names, rotation=45)\n",
    "        plt.yticks(tick_marks, target_names)\n",
    "\n",
    "    if normalize:\n",
    "        cm = cm.astype('float') / cm.sum(axis=1)[:, np.newaxis]\n",
    "\n",
    "\n",
    "    thresh = cm.max() / 1.5 if normalize else cm.max() / 2\n",
    "    for i, j in itertools.product(range(cm.shape[0]), range(cm.shape[1])):\n",
    "        if normalize:\n",
    "            plt.text(j, i, \"{:0.4f}\".format(cm[i, j]),\n",
    "                     horizontalalignment=\"center\",\n",
    "                     color=\"white\" if cm[i, j] > thresh else \"black\")\n",
    "        else:\n",
    "            plt.text(j, i, \"{:,}\".format(cm[i, j]),\n",
    "                     horizontalalignment=\"center\",\n",
    "                     color=\"white\" if cm[i, j] > thresh else \"black\")\n",
    "\n",
    "    \n",
    "    plt.tight_layout()\n",
    "    plt.ylabel('Valores Reais')\n",
    "    plt.xlabel('Valores preditos\\nAcurácia={:0.4f}; Erro={:0.4f}'.format(accuracy, misclass))\n",
    "    plt.show()"
   ]
  },
  {
   "cell_type": "code",
   "execution_count": 21,
   "metadata": {},
   "outputs": [
    {
     "data": {
      "image/png": "[encoded data removed]",
      "text/plain": [
       "<Figure size 1440x720 with 2 Axes>"
      ]
     },
     "metadata": {
      "needs_background": "light"
     },
     "output_type": "display_data"
    }
   ],
   "source": [
    "plot_confusion_matrix(cm, target_names=['Carta alta', 'Par', 'Dois Pares', 'Trinca', 'Straight', 'Flush', 'Full house', 'Quadra', 'Straight flush', 'Royal flush'], normalize=True, title='Matriz de Confusão')"
   ]
  },
  {
   "cell_type": "markdown",
   "metadata": {},
   "source": [
    "### SVMs"
   ]
  },
  {
   "cell_type": "code",
   "execution_count": 22,
   "metadata": {},
   "outputs": [
    {
     "name": "stdout",
     "output_type": "stream",
     "text": [
      "Fitting 5 folds for each of 12 candidates, totalling 60 fits\n"
     ]
    },
    {
     "name": "stderr",
     "output_type": "stream",
     "text": [
      "[Parallel(n_jobs=1)]: Using backend SequentialBackend with 1 concurrent workers.\n",
      "[Parallel(n_jobs=1)]: Done  60 out of  60 | elapsed:  7.0min finished\n"
     ]
    },
    {
     "data": {
      "text/plain": [
       "0.633282214619952"
      ]
     },
     "execution_count": 22,
     "metadata": {},
     "output_type": "execute_result"
    }
   ],
   "source": [
    "from sklearn import svm\n",
    "from sklearn.svm import SVC\n",
    "from sklearn.metrics import accuracy_score\n",
    "from sklearn.model_selection import GridSearchCV\n",
    "\n",
    "param_grid = [\n",
    "  {'C': [1, 10, 100, 1000], 'kernel': ['linear']},\n",
    "  {'C': [1, 10, 100, 1000], 'gamma': [0.001, 0.0001], 'kernel': ['rbf']},\n",
    " ]\n",
    "svc = svm.SVC(gamma=\"scale\")\n",
    "#svm = SVC(kernel='linear', C = 1, gamma = 'auto', verbose=1)\n",
    "clf = GridSearchCV(svc, param_grid, cv=5, verbose=True)\n",
    "clf.fit(X_raw, y_raw)\n",
    "\n",
    "\n",
    "svm_predicts = clf.predict(X_raw_test)\n",
    "svm_acc = accuracy_score(y_raw_test, svm_predicts)\n",
    "svm_acc"
   ]
  },
  {
   "cell_type": "code",
   "execution_count": 23,
   "metadata": {},
   "outputs": [
    {
     "data": {
      "text/plain": [
       "SVC(C=1000, cache_size=200, class_weight=None, coef0=0.0,\n",
       "  decision_function_shape='ovr', degree=3, gamma=0.001, kernel='rbf',\n",
       "  max_iter=-1, probability=False, random_state=None, shrinking=True,\n",
       "  tol=0.001, verbose=False)"
      ]
     },
     "execution_count": 23,
     "metadata": {},
     "output_type": "execute_result"
    }
   ],
   "source": [
    "clf.best_estimator_"
   ]
  },
  {
   "cell_type": "code",
   "execution_count": null,
   "metadata": {},
   "outputs": [],
   "source": []
  },
  {
   "cell_type": "markdown",
   "metadata": {},
   "source": [
    "### SVM - RBF"
   ]
  },
  {
   "cell_type": "code",
   "execution_count": 24,
   "metadata": {},
   "outputs": [
    {
     "name": "stdout",
     "output_type": "stream",
     "text": [
      "[LibSVM]"
     ]
    },
    {
     "data": {
      "text/plain": [
       "0.6271610763766008"
      ]
     },
     "execution_count": 24,
     "metadata": {},
     "output_type": "execute_result"
    }
   ],
   "source": [
    "from sklearn.svm import SVC\n",
    "from sklearn.metrics import accuracy_score\n",
    "\n",
    "svm2 = SVC(kernel='rbf', C = 1, gamma = 'auto', verbose=1)\n",
    "svm2.fit(X_raw, y_raw)\n",
    "\n",
    "\n",
    "svm2_predicts = svm2.predict(X_raw_test)\n",
    "svm2_acc = accuracy_score(y_raw_test, svm2_predicts)\n",
    "svm2_acc"
   ]
  },
  {
   "cell_type": "code",
   "execution_count": 25,
   "metadata": {},
   "outputs": [
    {
     "name": "stdout",
     "output_type": "stream",
     "text": [
      "[LibSVM][LibSVM][LibSVM][LibSVM][LibSVM]"
     ]
    },
    {
     "data": {
      "text/plain": [
       "array([0.62790698, 0.62239583, 0.625     , 0.63089005, 0.62992126])"
      ]
     },
     "execution_count": 25,
     "metadata": {},
     "output_type": "execute_result"
    }
   ],
   "source": [
    "from sklearn.model_selection import cross_val_score  \n",
    "all_accuracies2 = cross_val_score(estimator=svm2, X=X_raw, y=y_raw, cv=5)\n",
    "all_accuracies2"
   ]
  },
  {
   "cell_type": "markdown",
   "metadata": {},
   "source": [
    "### SVM - DB Codificado"
   ]
  },
  {
   "cell_type": "code",
   "execution_count": 26,
   "metadata": {},
   "outputs": [],
   "source": [
    "# from sklearn.svm import SVC\n",
    "# from sklearn.metrics import accuracy_score\n",
    "\n",
    "# svm3 = SVC(kernel='rbf', C = 1, gamma = 'auto', verbose=1)\n",
    "# svm3.fit(data_cod, data_cod_labels)\n",
    "\n",
    "\n",
    "# svm3_predicts = svm.predict(data_cod_test)\n",
    "# svm3_acc = accuracy_score(data_cod_test_labels, svm3_predicts)\n",
    "# svm3_acc"
   ]
  },
  {
   "cell_type": "code",
   "execution_count": 27,
   "metadata": {},
   "outputs": [],
   "source": [
    "# from sklearn.model_selection import cross_val_score  \n",
    "# all_accuracies3 = cross_val_score(estimator=svm3, X=data_cod, y=data_cod_labels, cv=5)\n",
    "# all_accuracies3"
   ]
  },
  {
   "cell_type": "code",
   "execution_count": 28,
   "metadata": {},
   "outputs": [
    {
     "name": "stdout",
     "output_type": "stream",
     "text": [
      "---------- KNN ----------\n",
      "Menor erro de validação (DB Completo): 0.5268107242897159\n"
     ]
    }
   ],
   "source": [
    "from sklearn.neighbors import KNeighborsClassifier\n",
    "from sklearn.model_selection import cross_val_score  \n",
    "\n",
    "print('-'*10,'KNN','-'*10)\n",
    "\n",
    "# Dataset completo\n",
    "knn = KNeighborsClassifier(n_neighbors=3)\n",
    "knn.fit(data01_train, data01_train_labels) # treinamento da rede\n",
    "estimators_knn = cross_val_score(estimator=knn, X=data01_train, y=data01_train_labels, cv=5)\n",
    "print('Menor erro de validação (DB Completo):',min(estimators_knn))"
   ]
  },
  {
   "cell_type": "code",
   "execution_count": 29,
   "metadata": {},
   "outputs": [
    {
     "data": {
      "text/plain": [
       "(25010, 10)"
      ]
     },
     "execution_count": 29,
     "metadata": {},
     "output_type": "execute_result"
    }
   ],
   "source": [
    "data01_train.shape"
   ]
  },
  {
   "cell_type": "code",
   "execution_count": 30,
   "metadata": {},
   "outputs": [
    {
     "name": "stdout",
     "output_type": "stream",
     "text": [
      "Acurácia: 0.479915\n",
      "S1 0.06592751089053815\n",
      "C1 0.13799781655499108\n",
      "S2 0.0396940835671969\n",
      "C2 0.1427751301861546\n",
      "S3 0.07285103488977798\n",
      "C3 0.14602368040140384\n",
      "S4 0.0748688726196515\n",
      "C4 0.13995638654193812\n",
      "S5 0.038010576590933536\n",
      "C5 0.1418949077574143\n"
     ]
    }
   ],
   "source": [
    "from sklearn import tree\n",
    "from sklearn.metrics import accuracy_score\n",
    "from sklearn.tree import DecisionTreeClassifier\n",
    "\n",
    "tree_class = tree.DecisionTreeClassifier()\n",
    "tree_class.fit(data01_train, data01_train_labels)\n",
    "tree_predict = tree_class.predict(data01_test)\n",
    "tree_acc = accuracy_score(tree_predict, data01_test_labels.values)\n",
    "print('Acurácia:',tree_acc)\n",
    "\n",
    "#classifier = DecisionTreeClassifier()\n",
    "#classifier.fit(features, labels)\n",
    "for name, importance in zip(data01_train.columns, tree_class.feature_importances_):\n",
    "    print(name, importance)"
   ]
  },
  {
   "cell_type": "code",
   "execution_count": 31,
   "metadata": {
    "scrolled": false
   },
   "outputs": [
    {
     "name": "stderr",
     "output_type": "stream",
     "text": [
      "C:\\Users\\Samuel\\Anaconda3\\lib\\site-packages\\sklearn\\ensemble\\forest.py:246: FutureWarning: The default value of n_estimators will change from 10 in version 0.20 to 100 in 0.22.\n",
      "  \"10 in version 0.20 to 100 in 0.22.\", FutureWarning)\n"
     ]
    },
    {
     "name": "stdout",
     "output_type": "stream",
     "text": [
      "[0.0589001  0.14200544 0.05606473 0.14576618 0.05619035 0.1437957\n",
      " 0.05479787 0.14173371 0.04946192 0.15128399]\n",
      "Accuracy Using Random Forest : 0.6653325333411382\n",
      "\n"
     ]
    },
    {
     "name": "stderr",
     "output_type": "stream",
     "text": [
      "C:\\Users\\Samuel\\Anaconda3\\lib\\site-packages\\sklearn\\metrics\\classification.py:1143: UndefinedMetricWarning: Precision and F-score are ill-defined and being set to 0.0 in labels with no predicted samples.\n",
      "  'precision', 'predicted', average, warn_for)\n"
     ]
    },
    {
     "name": "stdout",
     "output_type": "stream",
     "text": [
      "              precision    recall  f1-score   support\n",
      "\n",
      "           0       0.69      0.84      0.76    205174\n",
      "           1       0.64      0.57      0.60    173606\n",
      "           2       0.42      0.06      0.10     19461\n",
      "           3       0.68      0.08      0.15      8657\n",
      "           4       0.37      0.02      0.03      1594\n",
      "           5       0.97      0.22      0.36       819\n",
      "           6       0.40      0.01      0.02       586\n",
      "           7       0.00      0.00      0.00        98\n",
      "           8       0.00      0.00      0.00         6\n",
      "           9       0.00      0.00      0.00         3\n",
      "\n",
      "   micro avg       0.67      0.67      0.67    410004\n",
      "   macro avg       0.42      0.18      0.20    410004\n",
      "weighted avg       0.65      0.67      0.64    410004\n",
      "\n",
      "[[172669  32442     48      8      4      3      0      0      0      0]\n",
      " [ 74101  98106   1168    196     32      0      3      0      0      0]\n",
      " [  3166  15135   1073     81      4      0      2      0      0      0]\n",
      " [  1087   6646    190    729      1      0      4      0      0      0]\n",
      " [   364   1192     11      3     24      0      0      0      0      0]\n",
      " [   577     60      0      0      0    182      0      0      0      0]\n",
      " [    28    432     77     43      0      0      6      0      0      0]\n",
      " [     4     64     10     20      0      0      0      0      0      0]\n",
      " [     1      4      0      0      0      1      0      0      0      0]\n",
      " [     2      0      0      0      0      1      0      0      0      0]]\n",
      "Accuracy Using AdaBoost : 0.4137691339596687\n",
      "\n"
     ]
    },
    {
     "name": "stderr",
     "output_type": "stream",
     "text": [
      "C:\\Users\\Samuel\\Anaconda3\\lib\\site-packages\\sklearn\\metrics\\classification.py:1143: UndefinedMetricWarning: Precision and F-score are ill-defined and being set to 0.0 in labels with no predicted samples.\n",
      "  'precision', 'predicted', average, warn_for)\n"
     ]
    },
    {
     "name": "stdout",
     "output_type": "stream",
     "text": [
      "              precision    recall  f1-score   support\n",
      "\n",
      "           0       0.51      0.62      0.56    205174\n",
      "           1       0.46      0.25      0.32    173606\n",
      "           2       0.00      0.00      0.00     19461\n",
      "           3       0.15      0.00      0.01      8657\n",
      "           4       0.00      0.00      0.00      1594\n",
      "           5       1.00      0.01      0.02       819\n",
      "           6       0.00      0.00      0.00       586\n",
      "           7       0.00      0.00      0.00        98\n",
      "           8       0.00      0.00      0.00         6\n",
      "           9       0.00      0.00      0.00         3\n",
      "\n",
      "   micro avg       0.41      0.41      0.41    410004\n",
      "   macro avg       0.21      0.09      0.09    410004\n",
      "weighted avg       0.46      0.41      0.42    410004\n",
      "\n",
      "[[127047  41627      0      4      0      0      0      0  36043    453]\n",
      " [102981  42566      0     86      0      0      0      0  26936   1037]\n",
      " [ 11582   5001      0     44      0      0      0      0   2611    223]\n",
      " [  4913   2554      0     26      0      0      0      0   1095     69]\n",
      " [   941    526      0      9      0      0      0      0    105     13]\n",
      " [   474    192      0      0      0      8      0      0    144      1]\n",
      " [   319    207      0      5      0      0      0      0     53      2]\n",
      " [    61     25      0      1      0      0      0      0     10      1]\n",
      " [     4      2      0      0      0      0      0      0      0      0]\n",
      " [     0      2      0      0      0      0      0      0      1      0]]\n",
      "Accuracy Using KNN : 0.6079428493380552\n",
      "\n"
     ]
    },
    {
     "name": "stderr",
     "output_type": "stream",
     "text": [
      "C:\\Users\\Samuel\\Anaconda3\\lib\\site-packages\\sklearn\\metrics\\classification.py:1143: UndefinedMetricWarning: Precision and F-score are ill-defined and being set to 0.0 in labels with no predicted samples.\n",
      "  'precision', 'predicted', average, warn_for)\n"
     ]
    },
    {
     "name": "stdout",
     "output_type": "stream",
     "text": [
      "              precision    recall  f1-score   support\n",
      "\n",
      "           0       0.65      0.75      0.69    205174\n",
      "           1       0.56      0.54      0.55    173606\n",
      "           2       0.32      0.07      0.11     19461\n",
      "           3       0.28      0.04      0.07      8657\n",
      "           4       0.24      0.03      0.06      1594\n",
      "           5       0.17      0.00      0.00       819\n",
      "           6       0.17      0.01      0.02       586\n",
      "           7       0.00      0.00      0.00        98\n",
      "           8       0.00      0.00      0.00         6\n",
      "           9       0.00      0.00      0.00         3\n",
      "\n",
      "   micro avg       0.61      0.61      0.61    410004\n",
      "   macro avg       0.24      0.14      0.15    410004\n",
      "weighted avg       0.58      0.61      0.59    410004\n",
      "\n",
      "[[153843  50994    300     27      6      4      0      0      0      0]\n",
      " [ 77459  93719   1771    540    112      1      4      0      0      0]\n",
      " [  5521  12331   1303    253     38      0     14      1      0      0]\n",
      " [   710   7201    400    338      1      0      5      2      0      0]\n",
      " [   213   1249     75      6     50      0      1      0      0      0]\n",
      " [   676    141      1      0      0      1      0      0      0      0]\n",
      " [    31    396    132     21      1      0      5      0      0      0]\n",
      " [     0     51     28     19      0      0      0      0      0      0]\n",
      " [     0      6      0      0      0      0      0      0      0      0]\n",
      " [     1      2      0      0      0      0      0      0      0      0]]\n",
      "Accuracy Using Naive Bayes : 0.50041950810236\n",
      "\n"
     ]
    },
    {
     "name": "stderr",
     "output_type": "stream",
     "text": [
      "C:\\Users\\Samuel\\Anaconda3\\lib\\site-packages\\sklearn\\metrics\\classification.py:1143: UndefinedMetricWarning: Precision and F-score are ill-defined and being set to 0.0 in labels with no predicted samples.\n",
      "  'precision', 'predicted', average, warn_for)\n"
     ]
    },
    {
     "name": "stdout",
     "output_type": "stream",
     "text": [
      "              precision    recall  f1-score   support\n",
      "\n",
      "           0       0.50      1.00      0.67    205174\n",
      "           1       0.00      0.00      0.00    173606\n",
      "           2       0.00      0.00      0.00     19461\n",
      "           3       0.00      0.00      0.00      8657\n",
      "           4       0.00      0.00      0.00      1594\n",
      "           5       0.00      0.00      0.00       819\n",
      "           6       0.00      0.00      0.00       586\n",
      "           7       0.00      0.00      0.00        98\n",
      "           8       0.00      0.00      0.00         6\n",
      "           9       0.00      0.00      0.00         3\n",
      "\n",
      "   micro avg       0.50      0.50      0.50    410004\n",
      "   macro avg       0.05      0.10      0.07    410004\n",
      "weighted avg       0.25      0.50      0.33    410004\n",
      "\n",
      "[[205174      0      0      0      0      0      0      0      0      0]\n",
      " [173606      0      0      0      0      0      0      0      0      0]\n",
      " [ 19461      0      0      0      0      0      0      0      0      0]\n",
      " [  8657      0      0      0      0      0      0      0      0      0]\n",
      " [  1594      0      0      0      0      0      0      0      0      0]\n",
      " [   819      0      0      0      0      0      0      0      0      0]\n",
      " [   586      0      0      0      0      0      0      0      0      0]\n",
      " [    98      0      0      0      0      0      0      0      0      0]\n",
      " [     6      0      0      0      0      0      0      0      0      0]\n",
      " [     3      0      0      0      0      0      0      0      0      0]]\n",
      "Accuracy Using Árvore de Decisão : 0.6128574355372143\n",
      "\n",
      "              precision    recall  f1-score   support\n",
      "\n",
      "           0       0.71      0.69      0.70    205174\n",
      "           1       0.58      0.58      0.58    173606\n",
      "           2       0.25      0.28      0.27     19461\n",
      "           3       0.29      0.33      0.31      8657\n",
      "           4       0.19      0.22      0.20      1594\n",
      "           5       0.14      0.21      0.17       819\n",
      "           6       0.11      0.13      0.12       586\n",
      "           7       0.11      0.13      0.12        98\n",
      "           8       0.00      0.00      0.00         6\n",
      "           9       0.00      0.00      0.00         3\n",
      "\n",
      "   micro avg       0.61      0.61      0.61    410004\n",
      "   macro avg       0.24      0.26      0.25    410004\n",
      "weighted avg       0.62      0.61      0.62    410004\n",
      "\n",
      "[[142081  57402   3407   1136    275    839     32      1      1      0]\n",
      " [ 54775 100189  12157   4976   1036    213    238     15      6      1]\n",
      " [  2659  10197   5523    676    160      5    196     45      0      0]\n",
      " [   821   3950    780   2866     45      2    155     38      0      0]\n",
      " [   213    793    163     67    351      2      0      3      0      2]\n",
      " [   486    150      6      0      0    173      0      0      1      3]\n",
      " [    18    160    168    156      0      0     78      6      0      0]\n",
      " [     3     24     15     37      1      0      5     13      0      0]\n",
      " [     0      2      0      1      2      1      0      0      0      0]\n",
      " [     1      1      0      0      1      0      0      0      0      0]]\n"
     ]
    }
   ],
   "source": [
    "from sklearn.metrics import accuracy_score, classification_report,confusion_matrix\n",
    "from sklearn.neural_network import MLPClassifier\n",
    "from sklearn.preprocessing import StandardScaler\n",
    "from sklearn import tree\n",
    "from sklearn.naive_bayes import GaussianNB\n",
    "from sklearn.multiclass import OutputCodeClassifier\n",
    "from sklearn.neighbors import KNeighborsClassifier\n",
    "from sklearn.ensemble import RandomForestClassifier\n",
    "from sklearn.ensemble import AdaBoostClassifier\n",
    "from sklearn.ensemble import BaggingClassifier\n",
    "from sklearn.multiclass import OneVsRestClassifier\n",
    "from sklearn import svm\n",
    "\n",
    "models = [RandomForestClassifier(), AdaBoostClassifier(), \n",
    "          KNeighborsClassifier(),GaussianNB(),tree.DecisionTreeClassifier()]\n",
    "\n",
    "model_names = [\"Random Forest\", \"AdaBoost\", \"KNN\",\"Naive Bayes\",\"Árvore de Decisão\"]\n",
    "\n",
    "for model,name in zip(models,model_names):\n",
    "    model.fit(data_full_train, data_full_train_labels)\n",
    "    \n",
    "    if name == \"Random Forest\":\n",
    "        print(model.feature_importances_)   \n",
    "    # predição\n",
    "    prediction = model.predict(data_full_test)\n",
    "    # acurácia\n",
    "    acc = accuracy_score(data_full_test_labels, prediction)\n",
    "    print(\"Accuracy Using\",name,\": \" + str(acc)+'\\n')\n",
    "    print(classification_report(data_full_test_labels,prediction))\n",
    "    print(confusion_matrix(data_full_test_labels, prediction))"
   ]
  },
  {
   "cell_type": "code",
   "execution_count": 47,
   "metadata": {},
   "outputs": [
    {
     "data": {
      "image/png": "[encoded data removed]",
      "text/plain": [
       "<Figure size 720x432 with 1 Axes>"
      ]
     },
     "metadata": {
      "needs_background": "light"
     },
     "output_type": "display_data"
    }
   ],
   "source": [
    "import numpy as np\n",
    "import matplotlib.pyplot as plt\n",
    "plt.figure(figsize=(10,6))\n",
    "height = [0.66, 0.41, 0.60, 0.50, 0.62, 0.61, 0.99]\n",
    "bars = (\"Random Forest\", \"AdaBoost\", \"KNN\",\"Naive Bayes\",\"SVM - RBF\", \"Árvore de Decisão\", \"MLP\")\n",
    "y_pos = np.arange(len(bars))\n",
    " \n",
    "# Create bars\n",
    "plt.bar(y_pos, height, color=['black', 'red', 'green', 'pink', 'blue', 'cyan', 'yellow'])\n",
    "\n",
    "# Create names on the x-axis\n",
    "plt.xticks(y_pos, bars)\n",
    "plt.title('Acurácia para diferentes modelos')\n",
    "plt.xlabel('Modelo')\n",
    "plt.ylabel('Acurácia')\n",
    "# Show graphic\n",
    "plt.show()\n"
   ]
  }
 ],
 "metadata": {
  "kernelspec": {
   "display_name": "Python 3",
   "language": "python",
   "name": "python3"
  },
  "language_info": {
   "codemirror_mode": {
    "name": "ipython",
    "version": 3
   },
   "file_extension": ".py",
   "mimetype": "text/x-python",
   "name": "python",
   "nbconvert_exporter": "python",
   "pygments_lexer": "ipython3",
   "version": "3.7.3"
  }
 },
 "nbformat": 4,
 "nbformat_minor": 2
}

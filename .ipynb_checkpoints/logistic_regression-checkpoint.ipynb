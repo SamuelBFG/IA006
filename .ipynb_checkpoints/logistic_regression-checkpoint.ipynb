{
 "cells": [
  {
   "cell_type": "markdown",
   "metadata": {},
   "source": [
    "# Parte 3 - Classificação multi-classe"
   ]
  },
  {
   "cell_type": "markdown",
   "metadata": {
    "scrolled": true
   },
   "source": [
    "### _k-Nearest Neighbors_"
   ]
  },
  {
   "cell_type": "markdown",
   "metadata": {},
   "source": [
    "A célula seguinte define função necessárias para o algoritmo de k-NN. O primeiro método utiliza a técnica de validação-cruzada _holdout_, o segundo método serve para calcular a distância Euclidiana, o método seguinte utiliza a distância calculada e pega os $K$ vizinhos mais próximos. Por fim, os últimos métodos definidos fazem o cálculo dos votos para definição da classe final da instância $x_{ij}$, bem como a acurácia do modelo para $K$ arbitrário."
   ]
  },
  {
   "cell_type": "code",
   "execution_count": 1,
   "metadata": {},
   "outputs": [],
   "source": [
    "import operator\n",
    "import math\n",
    "import random\n",
    "import pandas as pd\n",
    "import numpy as np\n",
    "random.seed(42)\n",
    "\n",
    "# Função de divisão do conjunto de dados em forma de holdout\n",
    "def split_data(data, split, X_training = [], X_test = []):\n",
    "    for x in range(len(data)):\n",
    "        if random.random() < split:\n",
    "            X_training.append(data[x])\n",
    "        else:\n",
    "            X_test.append(data[x])\n",
    "                     \n",
    "# Função de cálculo da distância Euclidiana\n",
    "def dist_euclidian(x1, x2, length):\n",
    "    dist = 0.0\n",
    "    for i in range(length):\n",
    "        dist += pow(float(x1[i])- float(x2[i]),2)\n",
    "    return math.sqrt(dist)\n",
    "\n",
    "# Função que calcula os K vizinhos mais próximos do padrão de teste segundo a distância Euclidiana\n",
    "def k_neighbors(X_training, instance, k):\n",
    "    distances = []\n",
    "    length = len(instance)-1\n",
    "    for x in range(len(X_training)):\n",
    "        dist = dist_euclidian(instance, X_training[x], length)\n",
    "        distances.append((X_training[x], dist))\n",
    "    distances.sort(key=operator.itemgetter(1))\n",
    "    neighbors = []\n",
    "    for x in range(k):\n",
    "        neighbors.append(distances[x][0])\n",
    "    return neighbors\n",
    "\n",
    "# Função de cálculo dos votos para definição da classe final da instância de teste\n",
    "def votes(neighbors):\n",
    "    classVotes = {}\n",
    "    for x in range(len(neighbors)):\n",
    "        response = neighbors[x][-1]\n",
    "        if response in classVotes:\n",
    "            classVotes[response] += 1\n",
    "        else:\n",
    "            classVotes[response] = 1\n",
    "    sortedVotes = sorted(classVotes.items(), key=operator.itemgetter(1), reverse=True)\n",
    "    return sortedVotes[0][0] \n",
    "\n",
    "# Função de cálculo da acurácia\n",
    "def accuracy_func(X_test, predictions):\n",
    "    n = 0\n",
    "    for x in range(len(X_test)):\n",
    "        if X_test[x][-1] == predictions[x]:\n",
    "            n += 1\n",
    "    return (n/float(len(X_test))) * 100.0"
   ]
  },
  {
   "cell_type": "markdown",
   "metadata": {},
   "source": [
    "- Separação dos dados com o método de _holdout_, separando o conjunto de dados aleatoriamente em 70% para o conjunto de treino, e 30% para o conjunto de teste:"
   ]
  },
  {
   "cell_type": "code",
   "execution_count": 2,
   "metadata": {},
   "outputs": [],
   "source": [
    "data_vehicle = pd.read_csv('dataset_vehicle.csv')\n",
    "df = data_vehicle.values.tolist()\n",
    "X_training = []\n",
    "X_test = []\n",
    "split = 0.7\n",
    "split_data(df, split, X_training, X_test)"
   ]
  },
  {
   "cell_type": "markdown",
   "metadata": {},
   "source": [
    "- Criação de um _dataframe_ nulo que será utilizado para visualização da matriz de confusão:"
   ]
  },
  {
   "cell_type": "code",
   "execution_count": 3,
   "metadata": {},
   "outputs": [
    {
     "data": {
      "text/html": [
       "<div>\n",
       "<style scoped>\n",
       "    .dataframe tbody tr th:only-of-type {\n",
       "        vertical-align: middle;\n",
       "    }\n",
       "\n",
       "    .dataframe tbody tr th {\n",
       "        vertical-align: top;\n",
       "    }\n",
       "\n",
       "    .dataframe thead th {\n",
       "        text-align: right;\n",
       "    }\n",
       "</style>\n",
       "<table border=\"1\" class=\"dataframe\">\n",
       "  <thead>\n",
       "    <tr style=\"text-align: right;\">\n",
       "      <th></th>\n",
       "      <th>bus</th>\n",
       "      <th>van</th>\n",
       "      <th>opel</th>\n",
       "      <th>saab</th>\n",
       "    </tr>\n",
       "  </thead>\n",
       "  <tbody>\n",
       "    <tr>\n",
       "      <th>bus</th>\n",
       "      <td>0</td>\n",
       "      <td>0</td>\n",
       "      <td>0</td>\n",
       "      <td>0</td>\n",
       "    </tr>\n",
       "    <tr>\n",
       "      <th>van</th>\n",
       "      <td>0</td>\n",
       "      <td>0</td>\n",
       "      <td>0</td>\n",
       "      <td>0</td>\n",
       "    </tr>\n",
       "    <tr>\n",
       "      <th>opel</th>\n",
       "      <td>0</td>\n",
       "      <td>0</td>\n",
       "      <td>0</td>\n",
       "      <td>0</td>\n",
       "    </tr>\n",
       "    <tr>\n",
       "      <th>saab</th>\n",
       "      <td>0</td>\n",
       "      <td>0</td>\n",
       "      <td>0</td>\n",
       "      <td>0</td>\n",
       "    </tr>\n",
       "  </tbody>\n",
       "</table>\n",
       "</div>"
      ],
      "text/plain": [
       "      bus  van  opel  saab\n",
       "bus     0    0     0     0\n",
       "van     0    0     0     0\n",
       "opel    0    0     0     0\n",
       "saab    0    0     0     0"
      ]
     },
     "execution_count": 3,
     "metadata": {},
     "output_type": "execute_result"
    }
   ],
   "source": [
    "confusion_matrix = pd.DataFrame(\n",
    "    {\n",
    "        \"bus\": [0, 0, 0, 0],\n",
    "        \"van\": [0, 0, 0, 0],\n",
    "        \"opel\": [0, 0, 0, 0],\n",
    "        \"saab\": [0, 0, 0, 0],\n",
    "    }\n",
    ")\n",
    "\n",
    "confusion_matrix = confusion_matrix.rename(index = {0: \"bus\", 1: \"van\", 2: \"opel\", 3: \"saab\"})\n",
    "confusion_matrix"
   ]
  },
  {
   "cell_type": "markdown",
   "metadata": {},
   "source": [
    "- Soma as predições feitas, populando a matriz de confusão para um conjunto de $K \\in \\{1, 2, 3, \\cdots, 9\\}$. O _output_ da célula seguinte deve ser $K$ matrizes de confusão, juntamente com a sua taxa de acerto (acurácia):"
   ]
  },
  {
   "cell_type": "code",
   "execution_count": 4,
   "metadata": {},
   "outputs": [
    {
     "name": "stdout",
     "output_type": "stream",
     "text": [
      "Matriz de confusão (k-NN) para K = 1\n",
      "Acurácia: 63.52941176470588\n",
      "      bus  van  opel  saab\n",
      "bus    55    1     4    10\n",
      "van     4   57     0     0\n",
      "opel    3    4    20    25\n",
      "saab    5    5    32    30 \n",
      "------------------------------\n",
      "Matriz de confusão (k-NN) para K = 2\n",
      "Acurácia: 63.52941176470588\n",
      "      bus  van  opel  saab\n",
      "bus    55    1     4    10\n",
      "van     4   57     0     0\n",
      "opel    3    4    20    25\n",
      "saab    5    5    32    30 \n",
      "------------------------------\n",
      "Matriz de confusão (k-NN) para K = 3\n",
      "Acurácia: 65.09803921568627\n",
      "      bus  van  opel  saab\n",
      "bus    56    1     4     9\n",
      "van     3   57     0     1\n",
      "opel    3    5    21    23\n",
      "saab    5    4    31    32 \n",
      "------------------------------\n",
      "Matriz de confusão (k-NN) para K = 4\n",
      "Acurácia: 61.1764705882353\n",
      "      bus  van  opel  saab\n",
      "bus    53    1     2    14\n",
      "van     5   54     1     1\n",
      "opel    3    5    21    23\n",
      "saab    8    3    33    28 \n",
      "------------------------------\n",
      "Matriz de confusão (k-NN) para K = 5\n",
      "Acurácia: 62.745098039215684\n",
      "      bus  van  opel  saab\n",
      "bus    52    1     6    11\n",
      "van     5   54     1     1\n",
      "opel    3    5    21    23\n",
      "saab    8    5    26    33 \n",
      "------------------------------\n",
      "Matriz de confusão (k-NN) para K = 6\n",
      "Acurácia: 62.35294117647059\n",
      "      bus  van  opel  saab\n",
      "bus    54    0     9     7\n",
      "van     6   53     1     1\n",
      "opel    3    5    24    20\n",
      "saab   10    4    30    28 \n",
      "------------------------------\n",
      "Matriz de confusão (k-NN) para K = 7\n",
      "Acurácia: 60.78431372549019\n",
      "      bus  van  opel  saab\n",
      "bus    55    1     8     6\n",
      "van     7   53     1     0\n",
      "opel    2    6    20    24\n",
      "saab    9    4    32    27 \n",
      "------------------------------\n",
      "Matriz de confusão (k-NN) para K = 8\n",
      "Acurácia: 60.0\n",
      "      bus  van  opel  saab\n",
      "bus    56    0     5     9\n",
      "van     7   53     1     0\n",
      "opel    2    5    20    25\n",
      "saab    8    3    37    24 \n",
      "------------------------------\n",
      "Matriz de confusão (k-NN) para K = 9\n",
      "Acurácia: 60.3921568627451\n",
      "      bus  van  opel  saab\n",
      "bus    56    1     5     8\n",
      "van     7   53     1     0\n",
      "opel    1    5    21    25\n",
      "saab    9    5    34    24 \n",
      "------------------------------\n"
     ]
    }
   ],
   "source": [
    "for k in range (1,10):\n",
    "    predictions = []\n",
    "    cf_matrix = confusion_matrix.copy()\n",
    "    for x in range(len(X_test)):\n",
    "        neighbors = k_neighbors(X_training, X_test[x], k)\n",
    "        result = votes(neighbors)\n",
    "        if X_test[x][-1] == 'bus':\n",
    "            cf_matrix.iloc[0][result]+=1\n",
    "            \n",
    "        elif X_test[x][-1] == 'van':\n",
    "            cf_matrix.iloc[1][result]+=1\n",
    "            \n",
    "        elif X_test[x][-1] == 'opel':\n",
    "            cf_matrix.iloc[2][result]+=1\n",
    "            \n",
    "        else:\n",
    "            cf_matrix.iloc[3][result]+=1\n",
    "        \n",
    "        predictions.append(result)\n",
    "    #print('> predicted=' + repr(result) + ', actual=' + repr(X_test[x][-1]))\n",
    "    accuracy = accuracy_func(X_test, predictions)\n",
    "    print('Matriz de confusão (k-NN) para K =',k)\n",
    "    print('Acurácia:',accuracy)\n",
    "    print(cf_matrix,'\\n'+'-'*30)"
   ]
  },
  {
   "cell_type": "markdown",
   "metadata": {},
   "source": [
    "A título de **comparação**, utilizaremos a função de KNeighborsClassifier pronta do _Scikit-Learn_ para obtermos a acurácia dos mesmos $K$'s:"
   ]
  },
  {
   "cell_type": "code",
   "execution_count": 5,
   "metadata": {},
   "outputs": [
    {
     "name": "stdout",
     "output_type": "stream",
     "text": [
      "Acurácia do k-NN com K = 1 : 63.5%\n",
      "Acurácia do k-NN com K = 2 : 59.6%\n",
      "Acurácia do k-NN com K = 3 : 63.5%\n",
      "Acurácia do k-NN com K = 4 : 60.0%\n",
      "Acurácia do k-NN com K = 5 : 62.7%\n",
      "Acurácia do k-NN com K = 6 : 62.7%\n",
      "Acurácia do k-NN com K = 7 : 62.4%\n",
      "Acurácia do k-NN com K = 8 : 60.0%\n",
      "Acurácia do k-NN com K = 9 : 62.0%\n"
     ]
    }
   ],
   "source": [
    "from sklearn.neighbors import KNeighborsClassifier\n",
    "\n",
    "colnames_numeric = data_vehicle.columns[0:18]\n",
    "\n",
    "trainingSet2 = pd.DataFrame(np.array(X_training).reshape(len(X_training),19), columns = data_vehicle.columns)\n",
    "testSet2 = pd.DataFrame(np.array(X_test).reshape(len(X_test),19), columns = data_vehicle.columns)\n",
    "\n",
    "trainingSet2[colnames_numeric] = trainingSet2[colnames_numeric].apply(pd.to_numeric, errors = 'coerce', axis = 0)\n",
    "testSet2[colnames_numeric] = testSet2[colnames_numeric].apply(pd.to_numeric, errors = 'coerce', axis = 0)\n",
    "\n",
    "for k in range(1,10):\n",
    "    knn_sklearn = KNeighborsClassifier(n_neighbors = k, metric='euclidean', algorithm='kd_tree')\n",
    "    x_train,y_train = trainingSet2.loc[:,trainingSet2.columns != 'Class'], trainingSet2.loc[:,'Class']\n",
    "    x_test,y_test = testSet2.loc[:,testSet2.columns != 'Class'], testSet2.loc[:,'Class']\n",
    "    knn_sklearn.fit(x_train,y_train)\n",
    "    acc = knn_sklearn.score(x_test,y_test)\n",
    "    print('Acurácia do k-NN com K = {} : {:.1f}%'.format(k, acc*100))"
   ]
  },
  {
   "cell_type": "markdown",
   "metadata": {},
   "source": [
    "Logo, a máxima taxa de acerto da classificação utilizando o método do **k-NN** é dada quando $K = 3$. Percebemos que essa acurácia varia em torno de 60%, e a diferença entre o classificador construído e da função pronta pode ser explicada por a última levar em considerações mais parâmetros e fatores, o que podem tornar o classificador mais sensível e preciso."
   ]
  }
 ],
 "metadata": {
  "kernelspec": {
   "display_name": "Python 3",
   "language": "python",
   "name": "python3"
  },
  "language_info": {
   "codemirror_mode": {
    "name": "ipython",
    "version": 3
   },
   "file_extension": ".py",
   "mimetype": "text/x-python",
   "name": "python",
   "nbconvert_exporter": "python",
   "pygments_lexer": "ipython3",
   "version": "3.7.1"
  }
 },
 "nbformat": 4,
 "nbformat_minor": 2
}

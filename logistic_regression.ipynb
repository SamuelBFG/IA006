{
 "cells": [
  {
   "cell_type": "code",
   "execution_count": 1,
   "metadata": {},
   "outputs": [],
   "source": [
    "import numpy as np\n",
    "import pandas as pd \n",
    "from sgd_regression import * "
   ]
  },
  {
   "cell_type": "code",
   "execution_count": 2,
   "metadata": {},
   "outputs": [],
   "source": [
    "from sklearn.datasets import load_diabetes"
   ]
  },
  {
   "cell_type": "code",
   "execution_count": 3,
   "metadata": {},
   "outputs": [],
   "source": [
    "data = load_diabetes()"
   ]
  },
  {
   "cell_type": "code",
   "execution_count": 4,
   "metadata": {},
   "outputs": [],
   "source": [
    "X = data['data']"
   ]
  },
  {
   "cell_type": "code",
   "execution_count": 5,
   "metadata": {},
   "outputs": [],
   "source": [
    "y = data['target']"
   ]
  },
  {
   "cell_type": "code",
   "execution_count": 6,
   "metadata": {},
   "outputs": [],
   "source": [
    "def load_data(path):\n",
    "    \n",
    "    data = pd.read_csv(path)\n",
    "    \n",
    "    print(data.shape)\n",
    "    \n",
    "    indice = int(data.shape[0] * 0.7)\n",
    "    \n",
    "    shuffle_data = np.random.permutation(data)\n",
    "\n",
    "    treino = shuffle_data[0:indice, :] \n",
    "    teste =  shuffle_data[indice:,:]\n",
    "    \n",
    "    X_treino = treino[:,:-1]\n",
    "    y_treino = treino[:, -1]\n",
    "    \n",
    "    X_teste = teste[:,:-1]\n",
    "    y_teste = teste[:, -1]\n",
    "    \n",
    "    return X_treino, y_treino, X_teste, y_teste"
   ]
  },
  {
   "cell_type": "code",
   "execution_count": 7,
   "metadata": {},
   "outputs": [
    {
     "name": "stdout",
     "output_type": "stream",
     "text": [
      "(846, 19)\n"
     ]
    }
   ],
   "source": [
    "path = 'dataset_vehicle.csv'\n",
    "X_treino, y_treino, X_teste, y_teste = load_data(path)"
   ]
  },
  {
   "cell_type": "code",
   "execution_count": 8,
   "metadata": {},
   "outputs": [
    {
     "data": {
      "text/plain": [
       "846"
      ]
     },
     "execution_count": 8,
     "metadata": {},
     "output_type": "execute_result"
    }
   ],
   "source": [
    "X_treino.shape[0] + X_teste.shape[0]"
   ]
  },
  {
   "cell_type": "code",
   "execution_count": 9,
   "metadata": {},
   "outputs": [],
   "source": [
    "def separa_classes(X_treino, y_treino):\n",
    "    vans = []\n",
    "    opels = []\n",
    "    saabs = []\n",
    "    buss = []\n",
    "    for i in range(len(y_treino)):\n",
    "        if(y_treino[i] == 'van'):\n",
    "            vans.append(X_treino[i])\n",
    "        elif y_treino[i] == 'opel':\n",
    "            opels.append(X_treino[i])\n",
    "        elif y_treino[i] == 'bus':\n",
    "            buss.append(X_treino[i])\n",
    "        else:\n",
    "            saabs.append(X_treino[i])\n",
    "            \n",
    "    return np.array(vans), np.array(opels), np.array(saabs), np.array(buss)"
   ]
  },
  {
   "cell_type": "code",
   "execution_count": 10,
   "metadata": {},
   "outputs": [],
   "source": [
    "opel, saab, bus, van = separa_classes(X_treino, y_treino)"
   ]
  },
  {
   "cell_type": "code",
   "execution_count": 11,
   "metadata": {},
   "outputs": [
    {
     "data": {
      "text/plain": [
       "(592, 18)"
      ]
     },
     "execution_count": 11,
     "metadata": {},
     "output_type": "execute_result"
    }
   ],
   "source": [
    "X_treino.shape"
   ]
  },
  {
   "cell_type": "code",
   "execution_count": 12,
   "metadata": {},
   "outputs": [
    {
     "data": {
      "text/plain": [
       "592"
      ]
     },
     "execution_count": 12,
     "metadata": {},
     "output_type": "execute_result"
    }
   ],
   "source": [
    "opel.shape[0] + saab.shape[0] + bus.shape[0] + van.shape[0]"
   ]
  },
  {
   "cell_type": "code",
   "execution_count": 13,
   "metadata": {},
   "outputs": [],
   "source": [
    "def models(opel, saab, bus, van):\n",
    "    \n",
    "    opsa = np.concatenate( (opel, saab), axis=0)\n",
    "    opbs = np.concatenate( (opel, bus), axis=0)\n",
    "    opvn = np.concatenate( (opel, van), axis=0)\n",
    "    sabu = np.concatenate( (saab, bus), axis=0)\n",
    "    savn = np.concatenate( (saab, van), axis=0)\n",
    "    buva = np.concatenate( (bus, van), axis=0)\n",
    "\n",
    "    label_opel = np.ones( (opel.shape[0]) )\n",
    "    label_saab = np.zeros( (saab.shape[0]) )\n",
    "    label_opsa = np.concatenate( (label_opel, label_saab) )\n",
    "\n",
    "    label_opel = np.ones( (opel.shape[0]) )\n",
    "    label_bus = np.zeros( (bus.shape[0]) )\n",
    "    label_opbs = np.concatenate( (label_opel, label_bus) )\n",
    "\n",
    "    label_opel = np.ones( (opel.shape[0]) )\n",
    "    label_van = np.zeros( (van.shape[0]) )\n",
    "    label_opvn = np.concatenate( (label_opel, label_van) )\n",
    "\n",
    "    label_saab = np.ones( (saab.shape[0]) )\n",
    "    label_bus = np.zeros( (bus.shape[0]) )\n",
    "    label_sabu = np.concatenate( (label_saab, label_bus) )\n",
    "\n",
    "    label_saab = np.ones( (saab.shape[0]) )\n",
    "    label_van = np.zeros( (van.shape[0]) )\n",
    "    label_savn = np.concatenate( (label_saab, label_van) )    \n",
    "\n",
    "    label_bus = np.ones( (bus.shape[0]) )\n",
    "    label_van = np.zeros( (van.shape[0]) )\n",
    "    label_buva = np.concatenate( (label_bus, label_van) )  \n",
    "\n",
    "    opel_saab = SGDRegression()\n",
    "    opel_saab.fit(opsa, label_opsa)\n",
    "    \n",
    "    opel_bus = SGDRegression()\n",
    "    opel_bus.fit(opbs, label_opbs)\n",
    "    \n",
    "    opel_van = SGDRegression()\n",
    "    opel_van.fit(opvn, label_opvn)\n",
    "    \n",
    "    saab_bus = SGDRegression()\n",
    "    saab_bus.fit(sabu, label_sabu)\n",
    "    \n",
    "    saab_van = SGDRegression()\n",
    "    saab_van.fit(savn, label_savn)\n",
    "    \n",
    "    bus_van = SGDRegression()\n",
    "    bus_van.fit(buva, label_buva)"
   ]
  },
  {
   "cell_type": "code",
   "execution_count": 14,
   "metadata": {},
   "outputs": [],
   "source": [
    "#models(opel, saab, bus, van)"
   ]
  },
  {
   "cell_type": "code",
   "execution_count": 15,
   "metadata": {},
   "outputs": [],
   "source": [
    "def votacao(label):\n",
    "    \n",
    "    if label == \"van\":\n",
    "        if pred[2] +  pred[4] + pred[5] < 2:\n",
    "            return 1\n",
    "        else:\n",
    "            return 0\n",
    "    elif label == \"opel\":\n",
    "        if pred[0] +  pred[1] + pred[2] > 1:\n",
    "            return 1\n",
    "        else:\n",
    "            return 0\n",
    "    elif label == \"bus\":\n",
    "        if pred[1] +  pred[3] + pred[5] < 2:\n",
    "            return 1\n",
    "        else:\n",
    "            return 0\n",
    "    else:\n",
    "        if pred[2] +  pred[4] + pred[5] < 2:\n",
    "            return 1\n",
    "        else:\n",
    "            return 0"
   ]
  },
  {
   "cell_type": "code",
   "execution_count": 17,
   "metadata": {
    "scrolled": true
   },
   "outputs": [
    {
     "data": {
      "text/plain": [
       "(846, 19)"
      ]
     },
     "execution_count": 17,
     "metadata": {},
     "output_type": "execute_result"
    }
   ],
   "source": [
    "data_vehicle = pd.read_csv('dataset_vehicle.csv')\n",
    "data_vehicle.shape"
   ]
  },
  {
   "cell_type": "code",
   "execution_count": 18,
   "metadata": {},
   "outputs": [],
   "source": [
    "#Breaking the data into training and test set\n",
    "import random\n",
    "def train_test_split(data, split, trainingSet = [], testSet = []):\n",
    "    for x in range(len(data)):\n",
    "        if random.random() < split:\n",
    "            trainingSet.append(data[x])\n",
    "        else:\n",
    "            testSet.append(data[x])"
   ]
  },
  {
   "cell_type": "code",
   "execution_count": 19,
   "metadata": {},
   "outputs": [],
   "source": [
    "df = data_vehicle.values.tolist()\n",
    "trainingSet = []\n",
    "testSet = []\n",
    "split = 0.7\n",
    "train_test_split(df, split, trainingSet, testSet)"
   ]
  },
  {
   "cell_type": "code",
   "execution_count": 20,
   "metadata": {},
   "outputs": [
    {
     "name": "stdout",
     "output_type": "stream",
     "text": [
      "571\n"
     ]
    },
    {
     "data": {
      "text/plain": [
       "275"
      ]
     },
     "execution_count": 20,
     "metadata": {},
     "output_type": "execute_result"
    }
   ],
   "source": [
    "print(len(trainingSet))\n",
    "len(testSet)"
   ]
  },
  {
   "cell_type": "code",
   "execution_count": 92,
   "metadata": {},
   "outputs": [],
   "source": [
    "#Define Euclidean distances\n",
    "import math\n",
    "def Euclideandist(x,xi, length):\n",
    "    d = 0.0\n",
    "    for i in range(length):\n",
    "        d += pow(float(x[i])- float(xi[i]),2)\n",
    "    return math.sqrt(d)"
   ]
  },
  {
   "cell_type": "code",
   "execution_count": 93,
   "metadata": {},
   "outputs": [
    {
     "data": {
      "text/html": [
       "<div>\n",
       "<style scoped>\n",
       "    .dataframe tbody tr th:only-of-type {\n",
       "        vertical-align: middle;\n",
       "    }\n",
       "\n",
       "    .dataframe tbody tr th {\n",
       "        vertical-align: top;\n",
       "    }\n",
       "\n",
       "    .dataframe thead th {\n",
       "        text-align: right;\n",
       "    }\n",
       "</style>\n",
       "<table border=\"1\" class=\"dataframe\">\n",
       "  <thead>\n",
       "    <tr style=\"text-align: right;\">\n",
       "      <th></th>\n",
       "      <th>bus</th>\n",
       "      <th>van</th>\n",
       "      <th>opel</th>\n",
       "      <th>saab</th>\n",
       "    </tr>\n",
       "  </thead>\n",
       "  <tbody>\n",
       "    <tr>\n",
       "      <th>bus</th>\n",
       "      <td>0</td>\n",
       "      <td>0</td>\n",
       "      <td>0</td>\n",
       "      <td>0</td>\n",
       "    </tr>\n",
       "    <tr>\n",
       "      <th>van</th>\n",
       "      <td>0</td>\n",
       "      <td>0</td>\n",
       "      <td>0</td>\n",
       "      <td>0</td>\n",
       "    </tr>\n",
       "    <tr>\n",
       "      <th>opel</th>\n",
       "      <td>0</td>\n",
       "      <td>0</td>\n",
       "      <td>0</td>\n",
       "      <td>0</td>\n",
       "    </tr>\n",
       "    <tr>\n",
       "      <th>saab</th>\n",
       "      <td>0</td>\n",
       "      <td>0</td>\n",
       "      <td>0</td>\n",
       "      <td>0</td>\n",
       "    </tr>\n",
       "  </tbody>\n",
       "</table>\n",
       "</div>"
      ],
      "text/plain": [
       "      bus  van  opel  saab\n",
       "bus     0    0     0     0\n",
       "van     0    0     0     0\n",
       "opel    0    0     0     0\n",
       "saab    0    0     0     0"
      ]
     },
     "execution_count": 93,
     "metadata": {},
     "output_type": "execute_result"
    }
   ],
   "source": [
    "confusion_matrix = pd.DataFrame(\n",
    "    {\n",
    "        \"bus\": [0, 0, 0, 0],\n",
    "        \"van\": [0, 0, 0, 0],\n",
    "        \"opel\": [0, 0, 0, 0],\n",
    "        \"saab\": [0, 0, 0, 0],\n",
    "    }\n",
    ")\n",
    "\n",
    "confusion_matrix = confusion_matrix.rename(index = {0: \"bus\", 1: \"van\", 2: \"opel\", 3: \"saab\"})\n",
    "confusion_matrix"
   ]
  },
  {
   "cell_type": "code",
   "execution_count": 94,
   "metadata": {},
   "outputs": [
    {
     "name": "stdout",
     "output_type": "stream",
     "text": [
      "> predicted='saab', actual='saab'\n",
      "> predicted='van', actual='van'\n",
      "> predicted='bus', actual='bus'\n",
      "> predicted='van', actual='van'\n",
      "> predicted='saab', actual='saab'\n",
      "> predicted='saab', actual='opel'\n",
      "> predicted='bus', actual='van'\n",
      "> predicted='saab', actual='saab'\n",
      "> predicted='opel', actual='saab'\n",
      "> predicted='saab', actual='bus'\n",
      "> predicted='bus', actual='saab'\n",
      "> predicted='bus', actual='bus'\n",
      "> predicted='van', actual='van'\n",
      "> predicted='van', actual='van'\n",
      "> predicted='opel', actual='saab'\n",
      "> predicted='saab', actual='opel'\n",
      "> predicted='saab', actual='saab'\n",
      "> predicted='saab', actual='van'\n",
      "> predicted='saab', actual='opel'\n",
      "> predicted='bus', actual='bus'\n",
      "> predicted='opel', actual='opel'\n",
      "> predicted='van', actual='opel'\n",
      "> predicted='van', actual='van'\n",
      "> predicted='bus', actual='bus'\n",
      "> predicted='van', actual='van'\n",
      "> predicted='van', actual='van'\n",
      "> predicted='saab', actual='saab'\n",
      "> predicted='bus', actual='bus'\n",
      "> predicted='opel', actual='saab'\n",
      "> predicted='bus', actual='bus'\n",
      "> predicted='van', actual='bus'\n",
      "> predicted='saab', actual='saab'\n",
      "> predicted='van', actual='van'\n",
      "> predicted='bus', actual='bus'\n",
      "> predicted='saab', actual='saab'\n",
      "> predicted='van', actual='van'\n",
      "> predicted='van', actual='van'\n",
      "> predicted='van', actual='van'\n",
      "> predicted='opel', actual='saab'\n",
      "> predicted='bus', actual='bus'\n",
      "> predicted='opel', actual='opel'\n",
      "> predicted='saab', actual='saab'\n",
      "> predicted='opel', actual='bus'\n",
      "> predicted='bus', actual='van'\n",
      "> predicted='opel', actual='saab'\n",
      "> predicted='saab', actual='opel'\n",
      "> predicted='bus', actual='saab'\n",
      "> predicted='bus', actual='bus'\n",
      "> predicted='saab', actual='opel'\n",
      "> predicted='bus', actual='bus'\n",
      "> predicted='bus', actual='saab'\n",
      "> predicted='saab', actual='opel'\n",
      "> predicted='saab', actual='opel'\n",
      "> predicted='saab', actual='opel'\n",
      "> predicted='van', actual='van'\n",
      "> predicted='bus', actual='bus'\n",
      "> predicted='bus', actual='bus'\n",
      "> predicted='bus', actual='bus'\n",
      "> predicted='saab', actual='opel'\n",
      "> predicted='bus', actual='bus'\n",
      "> predicted='bus', actual='bus'\n",
      "> predicted='bus', actual='bus'\n",
      "> predicted='bus', actual='saab'\n",
      "> predicted='bus', actual='bus'\n",
      "> predicted='saab', actual='saab'\n",
      "> predicted='saab', actual='saab'\n",
      "> predicted='van', actual='van'\n",
      "> predicted='saab', actual='saab'\n",
      "> predicted='opel', actual='opel'\n",
      "> predicted='bus', actual='bus'\n",
      "> predicted='saab', actual='opel'\n",
      "> predicted='bus', actual='bus'\n",
      "> predicted='saab', actual='saab'\n",
      "> predicted='van', actual='van'\n",
      "> predicted='saab', actual='opel'\n",
      "> predicted='van', actual='saab'\n",
      "> predicted='opel', actual='opel'\n",
      "> predicted='van', actual='van'\n",
      "> predicted='van', actual='van'\n",
      "> predicted='saab', actual='saab'\n",
      "> predicted='saab', actual='saab'\n",
      "> predicted='bus', actual='saab'\n",
      "> predicted='van', actual='van'\n",
      "> predicted='bus', actual='bus'\n",
      "> predicted='van', actual='van'\n",
      "> predicted='bus', actual='bus'\n",
      "> predicted='saab', actual='saab'\n",
      "> predicted='bus', actual='bus'\n",
      "> predicted='bus', actual='bus'\n",
      "> predicted='saab', actual='saab'\n",
      "> predicted='bus', actual='opel'\n",
      "> predicted='saab', actual='saab'\n",
      "> predicted='bus', actual='bus'\n",
      "> predicted='opel', actual='saab'\n",
      "> predicted='saab', actual='saab'\n",
      "> predicted='van', actual='van'\n",
      "> predicted='bus', actual='bus'\n",
      "> predicted='saab', actual='saab'\n",
      "> predicted='opel', actual='saab'\n",
      "> predicted='bus', actual='van'\n",
      "> predicted='opel', actual='opel'\n",
      "> predicted='van', actual='van'\n",
      "> predicted='van', actual='van'\n",
      "> predicted='bus', actual='bus'\n",
      "> predicted='bus', actual='opel'\n",
      "> predicted='van', actual='van'\n",
      "> predicted='van', actual='opel'\n",
      "> predicted='bus', actual='van'\n",
      "> predicted='saab', actual='opel'\n",
      "> predicted='opel', actual='saab'\n",
      "> predicted='bus', actual='opel'\n",
      "> predicted='saab', actual='saab'\n",
      "> predicted='van', actual='van'\n",
      "> predicted='bus', actual='bus'\n",
      "> predicted='bus', actual='bus'\n",
      "> predicted='bus', actual='bus'\n",
      "> predicted='saab', actual='saab'\n",
      "> predicted='van', actual='saab'\n",
      "> predicted='bus', actual='bus'\n",
      "> predicted='van', actual='van'\n",
      "> predicted='van', actual='van'\n",
      "> predicted='opel', actual='saab'\n",
      "> predicted='saab', actual='opel'\n",
      "> predicted='bus', actual='bus'\n",
      "> predicted='van', actual='opel'\n",
      "> predicted='van', actual='bus'\n",
      "> predicted='van', actual='van'\n",
      "> predicted='van', actual='saab'\n",
      "> predicted='bus', actual='bus'\n",
      "> predicted='saab', actual='opel'\n",
      "> predicted='saab', actual='opel'\n",
      "> predicted='saab', actual='saab'\n",
      "> predicted='opel', actual='saab'\n",
      "> predicted='opel', actual='bus'\n",
      "> predicted='opel', actual='saab'\n",
      "> predicted='bus', actual='bus'\n",
      "> predicted='van', actual='van'\n",
      "> predicted='bus', actual='opel'\n",
      "> predicted='saab', actual='van'\n",
      "> predicted='bus', actual='opel'\n",
      "> predicted='bus', actual='bus'\n",
      "> predicted='saab', actual='opel'\n",
      "> predicted='bus', actual='bus'\n",
      "> predicted='van', actual='van'\n",
      "> predicted='opel', actual='saab'\n",
      "> predicted='opel', actual='opel'\n",
      "> predicted='bus', actual='opel'\n",
      "> predicted='bus', actual='bus'\n",
      "> predicted='van', actual='van'\n",
      "> predicted='bus', actual='bus'\n",
      "> predicted='van', actual='van'\n",
      "> predicted='saab', actual='saab'\n",
      "> predicted='bus', actual='van'\n",
      "> predicted='opel', actual='saab'\n",
      "> predicted='bus', actual='bus'\n",
      "> predicted='bus', actual='bus'\n",
      "> predicted='van', actual='van'\n",
      "> predicted='van', actual='van'\n",
      "> predicted='opel', actual='opel'\n",
      "> predicted='saab', actual='saab'\n",
      "> predicted='opel', actual='opel'\n",
      "> predicted='bus', actual='bus'\n",
      "> predicted='saab', actual='saab'\n",
      "> predicted='opel', actual='opel'\n",
      "> predicted='opel', actual='saab'\n",
      "> predicted='van', actual='van'\n",
      "> predicted='opel', actual='saab'\n",
      "> predicted='van', actual='van'\n",
      "> predicted='van', actual='saab'\n",
      "> predicted='opel', actual='saab'\n",
      "> predicted='saab', actual='saab'\n",
      "> predicted='saab', actual='opel'\n",
      "> predicted='saab', actual='opel'\n",
      "> predicted='saab', actual='saab'\n",
      "> predicted='bus', actual='saab'\n",
      "> predicted='van', actual='van'\n",
      "> predicted='bus', actual='bus'\n",
      "> predicted='van', actual='bus'\n",
      "> predicted='van', actual='opel'\n",
      "> predicted='opel', actual='saab'\n",
      "> predicted='saab', actual='opel'\n",
      "> predicted='bus', actual='bus'\n",
      "> predicted='saab', actual='saab'\n",
      "> predicted='van', actual='van'\n",
      "> predicted='saab', actual='opel'\n",
      "> predicted='opel', actual='opel'\n",
      "> predicted='opel', actual='opel'\n",
      "> predicted='van', actual='opel'\n",
      "> predicted='bus', actual='opel'\n",
      "> predicted='opel', actual='opel'\n",
      "> predicted='bus', actual='bus'\n",
      "> predicted='van', actual='van'\n",
      "> predicted='saab', actual='bus'\n",
      "> predicted='van', actual='saab'\n",
      "> predicted='bus', actual='bus'\n",
      "> predicted='van', actual='van'\n",
      "> predicted='opel', actual='opel'\n",
      "> predicted='saab', actual='opel'\n",
      "> predicted='van', actual='van'\n",
      "> predicted='bus', actual='bus'\n",
      "> predicted='saab', actual='opel'\n",
      "> predicted='bus', actual='bus'\n",
      "> predicted='van', actual='opel'\n",
      "> predicted='van', actual='van'\n",
      "> predicted='opel', actual='opel'\n",
      "> predicted='bus', actual='van'\n",
      "> predicted='van', actual='van'\n",
      "> predicted='opel', actual='opel'\n",
      "> predicted='bus', actual='bus'\n",
      "> predicted='opel', actual='opel'\n",
      "> predicted='saab', actual='saab'\n",
      "> predicted='opel', actual='saab'\n",
      "> predicted='bus', actual='opel'\n",
      "> predicted='bus', actual='saab'\n",
      "> predicted='opel', actual='saab'\n",
      "> predicted='opel', actual='opel'\n",
      "> predicted='van', actual='van'\n",
      "> predicted='saab', actual='saab'\n",
      "> predicted='bus', actual='bus'\n",
      "> predicted='saab', actual='opel'\n",
      "> predicted='bus', actual='bus'\n",
      "> predicted='opel', actual='opel'\n",
      "> predicted='saab', actual='saab'\n",
      "> predicted='opel', actual='opel'\n",
      "> predicted='bus', actual='bus'\n",
      "> predicted='saab', actual='saab'\n",
      "> predicted='saab', actual='saab'\n",
      "> predicted='opel', actual='saab'\n",
      "> predicted='bus', actual='bus'\n",
      "> predicted='opel', actual='opel'\n",
      "> predicted='saab', actual='saab'\n",
      "> predicted='van', actual='van'\n",
      "> predicted='van', actual='van'\n",
      "> predicted='saab', actual='saab'\n",
      "> predicted='bus', actual='bus'\n",
      "> predicted='van', actual='van'\n",
      "> predicted='saab', actual='opel'\n",
      "> predicted='van', actual='van'\n",
      "> predicted='saab', actual='opel'\n",
      "> predicted='bus', actual='bus'\n",
      "> predicted='saab', actual='saab'\n",
      "> predicted='van', actual='van'\n",
      "> predicted='bus', actual='bus'\n",
      "> predicted='van', actual='van'\n",
      "> predicted='saab', actual='saab'\n",
      "> predicted='van', actual='van'\n",
      "> predicted='bus', actual='bus'\n",
      "> predicted='saab', actual='opel'\n",
      "> predicted='bus', actual='bus'\n",
      "> predicted='saab', actual='opel'\n",
      "> predicted='saab', actual='opel'\n",
      "> predicted='bus', actual='bus'\n",
      "> predicted='van', actual='van'\n",
      "> predicted='van', actual='van'\n",
      "> predicted='opel', actual='opel'\n",
      "> predicted='opel', actual='saab'\n",
      "> predicted='bus', actual='bus'\n",
      "> predicted='van', actual='van'\n",
      "> predicted='bus', actual='bus'\n",
      "> predicted='bus', actual='bus'\n",
      "> predicted='van', actual='van'\n",
      "> predicted='van', actual='opel'\n",
      "> predicted='bus', actual='bus'\n",
      "> predicted='saab', actual='opel'\n",
      "> predicted='saab', actual='saab'\n"
     ]
    },
    {
     "name": "stdout",
     "output_type": "stream",
     "text": [
      "> predicted='bus', actual='bus'\n",
      "> predicted='van', actual='van'\n",
      "> predicted='saab', actual='saab'\n",
      "> predicted='saab', actual='opel'\n",
      "> predicted='saab', actual='saab'\n",
      "> predicted='opel', actual='saab'\n",
      "> predicted='saab', actual='saab'\n",
      "> predicted='opel', actual='saab'\n",
      "> predicted='van', actual='van'\n",
      "> predicted='van', actual='van'\n"
     ]
    }
   ],
   "source": [
    "#Getting the K neighbours having the closest Euclidean distance to the test instance\n",
    "import operator\n",
    "def getNeighbors(trainingSet, testInstance, k):\n",
    "    distances = []\n",
    "    length = len(testInstance)-1\n",
    "    for x in range(len(trainingSet)):\n",
    "        dist = Euclideandist(testInstance, trainingSet[x], length)\n",
    "        distances.append((trainingSet[x], dist))\n",
    "    distances.sort(key=operator.itemgetter(1))\n",
    "    neighbors = []\n",
    "    for x in range(k):\n",
    "        neighbors.append(distances[x][0])\n",
    "    return neighbors\n",
    "\n",
    "#After sorting the neighbours based on their respective classes, max voting to give the final class of the test instance\n",
    "def getResponse(neighbors):\n",
    "    classVotes = {}\n",
    "    for x in range(len(neighbors)):\n",
    "        response = neighbors[x][-1]\n",
    "        if response in classVotes:\n",
    "            classVotes[response] += 1\n",
    "        else:\n",
    "            classVotes[response] = 1\n",
    "    sortedVotes = sorted(classVotes.items(), key=operator.itemgetter(1), reverse=True)#Sorting it based on votes\n",
    "    return sortedVotes[0][0] #Please note we need the class for the top voted class, hence [0][0]#\n",
    "\n",
    "#Getting the accuracy\n",
    "def getAccuracy(testSet, predictions):\n",
    "    correct = 0\n",
    "    for x in range(len(testSet)):\n",
    "        if testSet[x][-1] == predictions[x]:\n",
    "            correct += 1\n",
    "    return (correct/float(len(testSet))) * 100.0\n",
    "\n",
    "# generate predictions\n",
    "predictions=[]\n",
    "k = 3\n",
    "for x in range(len(testSet)):\n",
    "    neighbors = getNeighbors(trainingSet, testSet[x], k)\n",
    "    result = getResponse(neighbors)\n",
    "    if testSet[x][-1] == 'bus':\n",
    "        confusion_matrix.iloc[0][result]+=1\n",
    "    elif testSet[x][-1] == 'van':\n",
    "        confusion_matrix.iloc[1][result]+=1\n",
    "    elif testSet[x][-1] == 'opel':\n",
    "        confusion_matrix.iloc[2][result]+=1\n",
    "    else:\n",
    "        confusion_matrix.iloc[3][result]+=1\n",
    "    predictions.append(result)\n",
    "    print('> predicted=' + repr(result) + ', actual=' + repr(testSet[x][-1]))"
   ]
  },
  {
   "cell_type": "code",
   "execution_count": 95,
   "metadata": {},
   "outputs": [
    {
     "data": {
      "text/html": [
       "<div>\n",
       "<style scoped>\n",
       "    .dataframe tbody tr th:only-of-type {\n",
       "        vertical-align: middle;\n",
       "    }\n",
       "\n",
       "    .dataframe tbody tr th {\n",
       "        vertical-align: top;\n",
       "    }\n",
       "\n",
       "    .dataframe thead th {\n",
       "        text-align: right;\n",
       "    }\n",
       "</style>\n",
       "<table border=\"1\" class=\"dataframe\">\n",
       "  <thead>\n",
       "    <tr style=\"text-align: right;\">\n",
       "      <th></th>\n",
       "      <th>bus</th>\n",
       "      <th>van</th>\n",
       "      <th>opel</th>\n",
       "      <th>saab</th>\n",
       "    </tr>\n",
       "  </thead>\n",
       "  <tbody>\n",
       "    <tr>\n",
       "      <th>bus</th>\n",
       "      <td>62</td>\n",
       "      <td>3</td>\n",
       "      <td>2</td>\n",
       "      <td>2</td>\n",
       "    </tr>\n",
       "    <tr>\n",
       "      <th>van</th>\n",
       "      <td>6</td>\n",
       "      <td>56</td>\n",
       "      <td>0</td>\n",
       "      <td>2</td>\n",
       "    </tr>\n",
       "    <tr>\n",
       "      <th>opel</th>\n",
       "      <td>8</td>\n",
       "      <td>7</td>\n",
       "      <td>21</td>\n",
       "      <td>30</td>\n",
       "    </tr>\n",
       "    <tr>\n",
       "      <th>saab</th>\n",
       "      <td>7</td>\n",
       "      <td>5</td>\n",
       "      <td>23</td>\n",
       "      <td>41</td>\n",
       "    </tr>\n",
       "  </tbody>\n",
       "</table>\n",
       "</div>"
      ],
      "text/plain": [
       "      bus  van  opel  saab\n",
       "bus    62    3     2     2\n",
       "van     6   56     0     2\n",
       "opel    8    7    21    30\n",
       "saab    7    5    23    41"
      ]
     },
     "execution_count": 95,
     "metadata": {},
     "output_type": "execute_result"
    }
   ],
   "source": [
    "confusion_matrix"
   ]
  },
  {
   "cell_type": "code",
   "execution_count": 96,
   "metadata": {},
   "outputs": [
    {
     "name": "stdout",
     "output_type": "stream",
     "text": [
      "Accuracy: 65.45454545454545%\n"
     ]
    }
   ],
   "source": [
    "accuracy = getAccuracy(testSet, predictions)\n",
    "print('Accuracy: ' + repr(accuracy) + '%')"
   ]
  },
  {
   "cell_type": "code",
   "execution_count": 44,
   "metadata": {},
   "outputs": [],
   "source": [
    "from sklearn.neighbors import KNeighborsClassifier\n",
    "\n",
    "colnames_numeric = data_vehicle.columns[0:18]\n",
    "\n",
    "trainingSet2 = pd.DataFrame(np.array(trainingSet).reshape(len(trainingSet),19), columns = data_vehicle.columns)\n",
    "testSet2 = pd.DataFrame(np.array(testSet).reshape(len(testSet),19), columns = data_vehicle.columns)\n",
    "\n",
    "trainingSet2[colnames_numeric] = trainingSet2[colnames_numeric].apply(pd.to_numeric, errors = 'coerce', axis = 0)\n",
    "testSet2[colnames_numeric] = testSet2[colnames_numeric].apply(pd.to_numeric, errors = 'coerce', axis = 0)\n"
   ]
  },
  {
   "cell_type": "code",
   "execution_count": 47,
   "metadata": {},
   "outputs": [
    {
     "data": {
      "text/plain": [
       "KNeighborsClassifier(algorithm='auto', leaf_size=30, metric='euclidean',\n",
       "           metric_params=None, n_jobs=None, n_neighbors=1, p=2,\n",
       "           weights='uniform')"
      ]
     },
     "execution_count": 47,
     "metadata": {},
     "output_type": "execute_result"
    }
   ],
   "source": [
    "knn_sklearn = KNeighborsClassifier(n_neighbors = 1, metric='euclidean')\n",
    "x_train,y_train = trainingSet2.loc[:,trainingSet2.columns != 'Class'], trainingSet2.loc[:,'Class']\n",
    "x_test,y_test = testSet2.loc[:,testSet2.columns != 'Class'], testSet2.loc[:,'Class']\n",
    "knn_sklearn.fit(x_train,y_train)"
   ]
  },
  {
   "cell_type": "code",
   "execution_count": 48,
   "metadata": {},
   "outputs": [
    {
     "name": "stdout",
     "output_type": "stream",
     "text": [
      "Prediction: ['saab' 'van' 'bus' 'saab' 'opel' 'opel' 'van' 'saab' 'saab' 'bus' 'saab'\n",
      " 'bus' 'van' 'van' 'opel' 'saab' 'saab' 'saab' 'saab' 'bus' 'opel' 'van'\n",
      " 'van' 'bus' 'van' 'van' 'saab' 'bus' 'opel' 'bus' 'van' 'saab' 'van'\n",
      " 'bus' 'saab' 'van' 'van' 'van' 'saab' 'bus' 'saab' 'saab' 'opel' 'van'\n",
      " 'opel' 'saab' 'bus' 'bus' 'saab' 'bus' 'bus' 'saab' 'saab' 'opel' 'van'\n",
      " 'bus' 'bus' 'bus' 'saab' 'bus' 'bus' 'bus' 'bus' 'bus' 'saab' 'saab'\n",
      " 'van' 'opel' 'opel' 'bus' 'saab' 'bus' 'saab' 'van' 'saab' 'saab' 'opel'\n",
      " 'van' 'van' 'saab' 'saab' 'bus' 'van' 'bus' 'van' 'bus' 'opel' 'bus'\n",
      " 'bus' 'saab' 'bus' 'saab' 'bus' 'opel' 'saab' 'van' 'bus' 'saab' 'opel'\n",
      " 'saab' 'opel' 'van' 'van' 'van' 'bus' 'van' 'van' 'van' 'saab' 'opel'\n",
      " 'bus' 'opel' 'van' 'bus' 'bus' 'bus' 'saab' 'opel' 'bus' 'van' 'van'\n",
      " 'opel' 'saab' 'bus' 'saab' 'van' 'van' 'opel' 'bus' 'saab' 'saab' 'saab'\n",
      " 'opel' 'opel' 'saab' 'bus' 'van' 'bus' 'van' 'bus' 'bus' 'saab' 'saab'\n",
      " 'bus' 'opel' 'opel' 'bus' 'bus' 'van' 'bus' 'van' 'saab' 'bus' 'opel'\n",
      " 'bus' 'bus' 'van' 'van' 'opel' 'saab' 'opel' 'bus' 'saab' 'opel' 'opel'\n",
      " 'van' 'opel' 'van' 'van' 'opel' 'saab' 'saab' 'saab' 'saab' 'bus' 'van'\n",
      " 'saab' 'bus' 'van' 'opel' 'saab' 'bus' 'saab' 'van' 'saab' 'saab' 'opel'\n",
      " 'van' 'van' 'opel' 'bus' 'van' 'saab' 'van' 'bus' 'van' 'opel' 'saab'\n",
      " 'van' 'bus' 'saab' 'bus' 'van' 'van' 'opel' 'bus' 'van' 'saab' 'bus'\n",
      " 'opel' 'saab' 'opel' 'bus' 'bus' 'opel' 'opel' 'van' 'saab' 'bus' 'saab'\n",
      " 'saab' 'opel' 'saab' 'opel' 'bus' 'saab' 'saab' 'opel' 'bus' 'saab'\n",
      " 'saab' 'saab' 'van' 'saab' 'bus' 'van' 'saab' 'van' 'opel' 'bus' 'saab'\n",
      " 'van' 'bus' 'bus' 'saab' 'van' 'bus' 'saab' 'bus' 'opel' 'saab' 'bus'\n",
      " 'van' 'van' 'opel' 'saab' 'bus' 'van' 'bus' 'van' 'van' 'van' 'saab'\n",
      " 'saab' 'opel' 'bus' 'van' 'saab' 'opel' 'saab' 'opel' 'saab' 'opel' 'van'\n",
      " 'van']\n",
      "With KNN (K=3) accuracy is:  0.6472727272727272\n"
     ]
    }
   ],
   "source": [
    "prediction = knn_sklearn.predict(x_test)\n",
    "print('Prediction: {}'.format(prediction))\n",
    "print('With KNN (K=3) accuracy is: ',knn_sklearn.score(x_test,y_test)) # accuracy"
   ]
  }
 ],
 "metadata": {
  "kernelspec": {
   "display_name": "Python 3",
   "language": "python",
   "name": "python3"
  },
  "language_info": {
   "codemirror_mode": {
    "name": "ipython",
    "version": 3
   },
   "file_extension": ".py",
   "mimetype": "text/x-python",
   "name": "python",
   "nbconvert_exporter": "python",
   "pygments_lexer": "ipython3",
   "version": "3.7.1"
  }
 },
 "nbformat": 4,
 "nbformat_minor": 2
}
